{
 "cells": [
  {
   "cell_type": "code",
   "execution_count": 1,
   "id": "da06232c",
   "metadata": {},
   "outputs": [],
   "source": [
    "import yaml\n",
    "import os\n",
    "import bluebelt as blue"
   ]
  },
  {
   "cell_type": "code",
   "execution_count": 2,
   "id": "b860b9c4",
   "metadata": {},
   "outputs": [],
   "source": [
    "d = blue.style('paper2.yaml')"
   ]
  },
  {
   "cell_type": "code",
   "execution_count": 31,
   "id": "1f4ea52a",
   "metadata": {},
   "outputs": [],
   "source": [
    "def flatten_dict(d: MutableMapping, parent_key: str = '', sep: str ='.') -> MutableMapping:\n",
    "    items = []\n",
    "    for k, v in d.items():\n",
    "        new_key = parent_key + sep + k if parent_key else k\n",
    "        if isinstance(v, MutableMapping):\n",
    "            if any(map(lambda x: isinstance(x, dict), v.values())):\n",
    "                items.extend(flatten_dict(v, new_key, sep=sep).items())\n",
    "            else:\n",
    "                items.append((new_key, v))\n",
    "        else:\n",
    "            items.append((new_key, v))\n",
    "    return dict(items)"
   ]
  },
  {
   "cell_type": "code",
   "execution_count": 32,
   "id": "d0d36c3e",
   "metadata": {},
   "outputs": [
    {
     "data": {
      "text/plain": [
       "True"
      ]
     },
     "execution_count": 32,
     "metadata": {},
     "output_type": "execute_result"
    }
   ],
   "source": [
    "any(map(lambda x: isinstance(x, dict), d.values()))"
   ]
  },
  {
   "cell_type": "code",
   "execution_count": 33,
   "id": "b2a60520",
   "metadata": {},
   "outputs": [
    {
     "data": {
      "text/plain": [
       "{'xsmall': 10,\n",
       " 'small': 14,\n",
       " 'medium': 18,\n",
       " 'large': 21,\n",
       " 'white': '#ffffff',\n",
       " 'light_blue': '#3f8dc5',\n",
       " 'blue': '#256fb3',\n",
       " 'dark_blue': '#001146',\n",
       " 'yellow': '#fcbe1f',\n",
       " 'orange': '#ee5c2b',\n",
       " 'red': '#b51133',\n",
       " \"green'\": '#0d7034',\n",
       " 'grey': '#8c94a8',\n",
       " 'light_grey': '#b5c6cf',\n",
       " \"dark_grey'\": '#3f494d',\n",
       " 'black': '#0e1221',\n",
       " 'qds.quantity.line': {'color': '#256fb3',\n",
       "  'linestyle': 'dashed',\n",
       "  'linewidth': 1,\n",
       "  'zorder': 90},\n",
       " 'qds.quantity.fill': {'color': None,\n",
       "  'hatch': '////',\n",
       "  'linestyle': 'dashed',\n",
       "  'linewidth': 0.5,\n",
       "  'zorder': 50}}"
      ]
     },
     "execution_count": 33,
     "metadata": {},
     "output_type": "execute_result"
    }
   ],
   "source": [
    "flatten_dict(d)"
   ]
  },
  {
   "cell_type": "code",
   "execution_count": null,
   "id": "9ffa0cdc",
   "metadata": {},
   "outputs": [],
   "source": []
  },
  {
   "cell_type": "code",
   "execution_count": 6,
   "id": "e0a34f66",
   "metadata": {},
   "outputs": [
    {
     "data": {
      "text/plain": [
       "{'xsmall': 10,\n",
       " 'small': 14,\n",
       " 'medium': 18,\n",
       " 'large': 21,\n",
       " 'white': '#ffffff',\n",
       " 'light_blue': '#3f8dc5',\n",
       " 'blue': '#256fb3',\n",
       " 'dark_blue': '#001146',\n",
       " 'yellow': '#fcbe1f',\n",
       " 'orange': '#ee5c2b',\n",
       " 'red': '#b51133',\n",
       " \"green'\": '#0d7034',\n",
       " 'grey': '#8c94a8',\n",
       " 'light_grey': '#b5c6cf',\n",
       " \"dark_grey'\": '#3f494d',\n",
       " 'black': '#0e1221',\n",
       " 'qds': {'quantity': {'line': {'color': '#256fb3',\n",
       "    'linestyle': 'solid',\n",
       "    'linewidth': 1,\n",
       "    'zorder': 90},\n",
       "   'fill': {'color': None,\n",
       "    'hatch': '////',\n",
       "    'linestyle': 'dashed',\n",
       "    'linewidth': 0.5,\n",
       "    'zorder': 50}}}}"
      ]
     },
     "execution_count": 6,
     "metadata": {},
     "output_type": "execute_result"
    }
   ],
   "source": [
    "with open('paper.yaml', 'r') as f:\n",
    "    data = yaml.load(f, yaml.SafeLoader)\n",
    "data"
   ]
  },
  {
   "cell_type": "code",
   "execution_count": 7,
   "id": "ed234a2f",
   "metadata": {},
   "outputs": [
    {
     "data": {
      "text/plain": [
       "{'xsmall': 10,\n",
       " 'small': 14,\n",
       " 'medium': 18,\n",
       " 'large': 21,\n",
       " 'white': '#ffffff',\n",
       " 'light_blue': '#3f8dc5',\n",
       " 'blue': '#256fb3',\n",
       " 'dark_blue': '#001146',\n",
       " 'yellow': '#fcbe1f',\n",
       " 'orange': '#ee5c2b',\n",
       " 'red': '#b51133',\n",
       " \"green'\": '#0d7034',\n",
       " 'grey': '#8c94a8',\n",
       " 'light_grey': '#b5c6cf',\n",
       " \"dark_grey'\": '#3f494d',\n",
       " 'black': '#0e1221',\n",
       " 'qds': {'quantity': {'line': {'color': '#256fb3',\n",
       "    'linestyle': 'solid',\n",
       "    'linewidth': 1,\n",
       "    'zorder': 90},\n",
       "   'fill': {'color': None,\n",
       "    'hatch': '////',\n",
       "    'linestyle': 'dashed',\n",
       "    'linewidth': 0.5,\n",
       "    'zorder': 50}}}}"
      ]
     },
     "execution_count": 7,
     "metadata": {},
     "output_type": "execute_result"
    }
   ],
   "source": [
    "data"
   ]
  },
  {
   "cell_type": "code",
   "execution_count": 8,
   "id": "70c3c2bc",
   "metadata": {},
   "outputs": [
    {
     "name": "stdout",
     "output_type": "stream",
     "text": [
      "black: '#0e1221'\n",
      "blue: '#256fb3'\n",
      "dark_blue: '#001146'\n",
      "dark_grey': '#3f494d'\n",
      "green': '#0d7034'\n",
      "grey: '#8c94a8'\n",
      "large: 21\n",
      "light_blue: '#3f8dc5'\n",
      "light_grey: '#b5c6cf'\n",
      "medium: 18\n",
      "orange: '#ee5c2b'\n",
      "qds:\n",
      "  quantity:\n",
      "    fill:\n",
      "      color: null\n",
      "      hatch: ////\n",
      "      linestyle: dashed\n",
      "      linewidth: 0.5\n",
      "      zorder: 50\n",
      "    line:\n",
      "      color: '#256fb3'\n",
      "      linestyle: solid\n",
      "      linewidth: 1\n",
      "      zorder: 90\n",
      "red: '#b51133'\n",
      "small: 14\n",
      "white: '#ffffff'\n",
      "xsmall: 10\n",
      "yellow: '#fcbe1f'\n",
      "\n"
     ]
    }
   ],
   "source": [
    "print(yaml.dump(data))"
   ]
  },
  {
   "cell_type": "code",
   "execution_count": null,
   "id": "51c7597c",
   "metadata": {},
   "outputs": [],
   "source": []
  },
  {
   "cell_type": "code",
   "execution_count": 5,
   "id": "ef2615f7",
   "metadata": {},
   "outputs": [
    {
     "data": {
      "text/plain": [
       "'/Users/Arvid/Projects/bluebelt_testing/0.2'"
      ]
     },
     "execution_count": 5,
     "metadata": {},
     "output_type": "execute_result"
    }
   ],
   "source": [
    "os.getcwd()"
   ]
  }
 ],
 "metadata": {
  "kernelspec": {
   "display_name": "Python 3 (ipykernel)",
   "language": "python",
   "name": "python3"
  },
  "language_info": {
   "codemirror_mode": {
    "name": "ipython",
    "version": 3
   },
   "file_extension": ".py",
   "mimetype": "text/x-python",
   "name": "python",
   "nbconvert_exporter": "python",
   "pygments_lexer": "ipython3",
   "version": "3.8.11"
  }
 },
 "nbformat": 4,
 "nbformat_minor": 5
}
