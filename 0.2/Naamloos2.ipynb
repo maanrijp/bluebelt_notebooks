{
 "cells": [
  {
   "cell_type": "code",
   "execution_count": 1,
   "id": "4505729e",
   "metadata": {},
   "outputs": [],
   "source": [
    "import pandas as pd"
   ]
  },
  {
   "cell_type": "code",
   "execution_count": 2,
   "id": "86ee2dd2",
   "metadata": {},
   "outputs": [],
   "source": [
    "@pd.api.extensions.register_series_accessor(\"_\")\n",
    "class TestClass:\n",
    "    def __init__(self, pandas_obj):\n",
    "        self._obj = pandas_obj\n",
    "        self.planning = self.planning(self._obj)\n",
    "    def test(self):\n",
    "        print('test')\n",
    "    \n",
    "    class planning:\n",
    "        def __init__(self, pandas_obj):\n",
    "            self._obj = pandas_obj\n",
    "\n",
    "        def test(self, **kwargs):\n",
    "            return \"test2\""
   ]
  },
  {
   "cell_type": "code",
   "execution_count": 3,
   "id": "7254caaa",
   "metadata": {},
   "outputs": [],
   "source": [
    "series = pd.Series([1,2,3,4])"
   ]
  },
  {
   "cell_type": "code",
   "execution_count": 4,
   "id": "92be02a5",
   "metadata": {},
   "outputs": [
    {
     "name": "stdout",
     "output_type": "stream",
     "text": [
      "test\n"
     ]
    }
   ],
   "source": [
    "series._.test()"
   ]
  },
  {
   "cell_type": "code",
   "execution_count": 5,
   "id": "f33dcda3",
   "metadata": {},
   "outputs": [
    {
     "data": {
      "text/plain": [
       "'test2'"
      ]
     },
     "execution_count": 5,
     "metadata": {},
     "output_type": "execute_result"
    }
   ],
   "source": [
    "series._.planning.test()"
   ]
  },
  {
   "cell_type": "code",
   "execution_count": null,
   "id": "9d32b0a7",
   "metadata": {},
   "outputs": [],
   "source": []
  }
 ],
 "metadata": {
  "kernelspec": {
   "display_name": "Python 3.8.11 ('base')",
   "language": "python",
   "name": "python3811jvsc74a57bd022788e8dc69c2913137a0a32ca47706b2886dfdb668fa9ecd31a4af3057af199"
  },
  "language_info": {
   "codemirror_mode": {
    "name": "ipython",
    "version": 3
   },
   "file_extension": ".py",
   "mimetype": "text/x-python",
   "name": "python",
   "nbconvert_exporter": "python",
   "pygments_lexer": "ipython3",
   "version": "3.8.11"
  }
 },
 "nbformat": 4,
 "nbformat_minor": 5
}
