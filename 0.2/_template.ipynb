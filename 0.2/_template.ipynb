{
 "cells": [
  {
   "cell_type": "code",
   "execution_count": 1,
   "id": "74534ce8",
   "metadata": {},
   "outputs": [],
   "source": [
    "import numpy as np\n",
    "import pandas as pd\n",
    "import bluebelt as blue\n",
    "import datetime"
   ]
  },
  {
   "cell_type": "code",
   "execution_count": 2,
   "id": "eff458fd",
   "metadata": {},
   "outputs": [],
   "source": [
    "frame = pd.read_pickle('../data/frame.pkl')"
   ]
  },
  {
   "cell_type": "code",
   "execution_count": 3,
   "id": "cba69954",
   "metadata": {},
   "outputs": [
    {
     "data": {
      "text/html": [
       "<div>\n",
       "<style scoped>\n",
       "    .dataframe tbody tr th:only-of-type {\n",
       "        vertical-align: middle;\n",
       "    }\n",
       "\n",
       "    .dataframe tbody tr th {\n",
       "        vertical-align: top;\n",
       "    }\n",
       "\n",
       "    .dataframe thead th {\n",
       "        text-align: right;\n",
       "    }\n",
       "</style>\n",
       "<table border=\"1\" class=\"dataframe\">\n",
       "  <thead>\n",
       "    <tr style=\"text-align: right;\">\n",
       "      <th></th>\n",
       "      <th>skill A</th>\n",
       "      <th>skill B</th>\n",
       "      <th>skill C</th>\n",
       "      <th>skill D</th>\n",
       "    </tr>\n",
       "  </thead>\n",
       "  <tbody>\n",
       "    <tr>\n",
       "      <th>2019-12-30</th>\n",
       "      <td>28.0</td>\n",
       "      <td>22.0</td>\n",
       "      <td>51.0</td>\n",
       "      <td>73.0</td>\n",
       "    </tr>\n",
       "    <tr>\n",
       "      <th>2020-01-06</th>\n",
       "      <td>27.0</td>\n",
       "      <td>21.0</td>\n",
       "      <td>52.0</td>\n",
       "      <td>68.0</td>\n",
       "    </tr>\n",
       "    <tr>\n",
       "      <th>2020-01-13</th>\n",
       "      <td>25.0</td>\n",
       "      <td>18.0</td>\n",
       "      <td>50.0</td>\n",
       "      <td>65.0</td>\n",
       "    </tr>\n",
       "    <tr>\n",
       "      <th>2020-01-20</th>\n",
       "      <td>21.0</td>\n",
       "      <td>19.0</td>\n",
       "      <td>55.0</td>\n",
       "      <td>70.0</td>\n",
       "    </tr>\n",
       "    <tr>\n",
       "      <th>2020-01-27</th>\n",
       "      <td>30.0</td>\n",
       "      <td>14.0</td>\n",
       "      <td>58.0</td>\n",
       "      <td>78.0</td>\n",
       "    </tr>\n",
       "    <tr>\n",
       "      <th>...</th>\n",
       "      <td>...</td>\n",
       "      <td>...</td>\n",
       "      <td>...</td>\n",
       "      <td>...</td>\n",
       "    </tr>\n",
       "    <tr>\n",
       "      <th>2022-11-28</th>\n",
       "      <td>32.0</td>\n",
       "      <td>27.0</td>\n",
       "      <td>64.0</td>\n",
       "      <td>87.0</td>\n",
       "    </tr>\n",
       "    <tr>\n",
       "      <th>2022-12-05</th>\n",
       "      <td>32.0</td>\n",
       "      <td>28.0</td>\n",
       "      <td>46.0</td>\n",
       "      <td>71.0</td>\n",
       "    </tr>\n",
       "    <tr>\n",
       "      <th>2022-12-12</th>\n",
       "      <td>29.0</td>\n",
       "      <td>20.0</td>\n",
       "      <td>63.0</td>\n",
       "      <td>63.0</td>\n",
       "    </tr>\n",
       "    <tr>\n",
       "      <th>2022-12-19</th>\n",
       "      <td>31.0</td>\n",
       "      <td>26.0</td>\n",
       "      <td>59.0</td>\n",
       "      <td>71.0</td>\n",
       "    </tr>\n",
       "    <tr>\n",
       "      <th>2022-12-26</th>\n",
       "      <td>27.0</td>\n",
       "      <td>27.0</td>\n",
       "      <td>73.0</td>\n",
       "      <td>96.0</td>\n",
       "    </tr>\n",
       "  </tbody>\n",
       "</table>\n",
       "<p>157 rows × 4 columns</p>\n",
       "</div>"
      ],
      "text/plain": [
       "            skill A  skill B  skill C  skill D\n",
       "2019-12-30     28.0     22.0     51.0     73.0\n",
       "2020-01-06     27.0     21.0     52.0     68.0\n",
       "2020-01-13     25.0     18.0     50.0     65.0\n",
       "2020-01-20     21.0     19.0     55.0     70.0\n",
       "2020-01-27     30.0     14.0     58.0     78.0\n",
       "...             ...      ...      ...      ...\n",
       "2022-11-28     32.0     27.0     64.0     87.0\n",
       "2022-12-05     32.0     28.0     46.0     71.0\n",
       "2022-12-12     29.0     20.0     63.0     63.0\n",
       "2022-12-19     31.0     26.0     59.0     71.0\n",
       "2022-12-26     27.0     27.0     73.0     96.0\n",
       "\n",
       "[157 rows x 4 columns]"
      ]
     },
     "execution_count": 3,
     "metadata": {},
     "output_type": "execute_result"
    }
   ],
   "source": [
    "frame._.resample(rule=7).subsize(3, 8)"
   ]
  },
  {
   "cell_type": "code",
   "execution_count": null,
   "id": "a316db1e",
   "metadata": {},
   "outputs": [],
   "source": []
  },
  {
   "cell_type": "code",
   "execution_count": null,
   "id": "cdf37537",
   "metadata": {},
   "outputs": [],
   "source": []
  },
  {
   "cell_type": "code",
   "execution_count": null,
   "id": "3ed57669",
   "metadata": {},
   "outputs": [],
   "source": []
  },
  {
   "cell_type": "code",
   "execution_count": 3,
   "id": "1d633320",
   "metadata": {},
   "outputs": [],
   "source": [
    "nrows = 105\n",
    "ncols = 4\n",
    "\n",
    "np.random.seed(27)\n",
    "series = pd.Series(np.random.weibull(7,nrows) * 100, index=pd.date_range(start='2019-12-16', periods=nrows), name='process A')\n",
    "frame = pd.DataFrame(np.random.normal(loc=100, scale=20, size=ncols*nrows).reshape(nrows, ncols), index=pd.date_range(start='2019-12-02', periods=nrows), columns=[f'skill {col}' for col in range(1, ncols+1)])\n",
    "\n",
    "series[series.sample(5).index] = np.nan # break the series\n",
    "for col in frame.columns:\n",
    "    frame.at[frame.sample(5).index, col] = np.nan # break the frame"
   ]
  },
  {
   "cell_type": "code",
   "execution_count": 49,
   "id": "dc5378dc",
   "metadata": {},
   "outputs": [
    {
     "data": {
      "text/plain": [
       "<pandas.core.resample.DatetimeIndexResampler object at 0x7fed5e121dc0>"
      ]
     },
     "execution_count": 49,
     "metadata": {},
     "output_type": "execute_result"
    }
   ],
   "source": [
    "frame._.resample(rule=7).grouped"
   ]
  },
  {
   "cell_type": "code",
   "execution_count": 210,
   "id": "a0b4b4cb",
   "metadata": {},
   "outputs": [],
   "source": [
    "def adjacent_pairs(groups):\n",
    "    last = next(groups)\n",
    "    for this in groups:\n",
    "        yield (last, this)\n",
    "        last = this"
   ]
  },
  {
   "cell_type": "code",
   "execution_count": 234,
   "id": "1a93b16b",
   "metadata": {},
   "outputs": [],
   "source": [
    "groups = (group for label, group in frame._.resample(rule=7).grouped)\n",
    "labels = (label for label, group in frame._.resample(rule=7).grouped)\n"
   ]
  },
  {
   "cell_type": "code",
   "execution_count": 236,
   "id": "51bec6c2",
   "metadata": {},
   "outputs": [
    {
     "ename": "AttributeError",
     "evalue": "'generator' object has no attribute 'size'",
     "output_type": "error",
     "traceback": [
      "\u001b[0;31m---------------------------------------------------------------------------\u001b[0m",
      "\u001b[0;31mAttributeError\u001b[0m                            Traceback (most recent call last)",
      "\u001b[0;32m<ipython-input-236-152b61e2da60>\u001b[0m in \u001b[0;36m<module>\u001b[0;34m\u001b[0m\n\u001b[0;32m----> 1\u001b[0;31m \u001b[0mgroups\u001b[0m\u001b[0;34m.\u001b[0m\u001b[0msize\u001b[0m\u001b[0;34m\u001b[0m\u001b[0;34m\u001b[0m\u001b[0m\n\u001b[0m",
      "\u001b[0;31mAttributeError\u001b[0m: 'generator' object has no attribute 'size'"
     ]
    }
   ],
   "source": [
    "groups.size"
   ]
  },
  {
   "cell_type": "code",
   "execution_count": 235,
   "id": "762e56e7",
   "metadata": {},
   "outputs": [
    {
     "data": {
      "text/plain": [
       "2019-12-02    0.000000\n",
       "2019-12-09    0.129625\n",
       "2019-12-16    0.229342\n",
       "2019-12-23    0.167684\n",
       "2019-12-30    0.140051\n",
       "2020-01-06    0.144560\n",
       "2020-01-13    0.156167\n",
       "2020-01-20    0.137757\n",
       "2020-01-27    0.145550\n",
       "2020-02-03    0.184751\n",
       "2020-02-10    0.200694\n",
       "2020-02-17    0.165956\n",
       "2020-02-24    0.125346\n",
       "2020-03-02    0.208872\n",
       "2020-03-09    0.169614\n",
       "dtype: float64"
      ]
     },
     "execution_count": 235,
     "metadata": {},
     "output_type": "execute_result"
    }
   ],
   "source": [
    "skills = [0]\n",
    "for last, this in adjacent_pairs(groups):\n",
    "    last = pd.DataFrame(index=last.index.isocalendar().day, data=last.fillna(0).values, columns=last.columns)\n",
    "    this = pd.DataFrame(index=this.index.isocalendar().day, data=this.fillna(0).values, columns=this.columns)\n",
    "    \n",
    "    # normalise week totals\n",
    "    this = this.multiply(last.to_numpy().sum() / this.to_numpy().sum())\n",
    "\n",
    "    # normalise weekdays\n",
    "    this = this.multiply((last.sum(axis=1) / this.sum(axis=1)), axis=0)\n",
    "\n",
    "    # s value is the ratio of half the absolute diff between this and last week and the normalised sum of this week\n",
    "    skills.append((last - this).abs().to_numpy().sum() / (this.to_numpy().sum() * 2))\n",
    "    \n",
    "    \n",
    "pd.Series(index=labels, data=skills)"
   ]
  },
  {
   "cell_type": "code",
   "execution_count": 224,
   "id": "be720a25",
   "metadata": {},
   "outputs": [
    {
     "data": {
      "text/plain": [
       "2019-12-02    0.000000\n",
       "2019-12-09    0.129625\n",
       "2019-12-16    0.229342\n",
       "2019-12-23    0.167684\n",
       "2019-12-30    0.140051\n",
       "2020-01-06    0.144560\n",
       "2020-01-13    0.156167\n",
       "2020-01-20    0.137757\n",
       "2020-01-27    0.145550\n",
       "2020-02-03    0.184751\n",
       "2020-02-10    0.200694\n",
       "2020-02-17    0.165956\n",
       "2020-02-24    0.125346\n",
       "2020-03-02    0.208872\n",
       "2020-03-09    0.169614\n",
       "dtype: float64"
      ]
     },
     "execution_count": 224,
     "metadata": {},
     "output_type": "execute_result"
    }
   ],
   "source": []
  },
  {
   "cell_type": "code",
   "execution_count": 208,
   "id": "de560ab8",
   "metadata": {},
   "outputs": [],
   "source": [
    "\n",
    "last = next(groups).fillna(0)\n",
    "this = next(groups).fillna(0)\n",
    "\n",
    "\n",
    "last = pd.DataFrame(index=last.index.isocalendar().day, data=last.values, columns=last.columns)\n",
    "this = pd.DataFrame(index=this.index.isocalendar().day, data=this.values, columns=this.columns)"
   ]
  },
  {
   "cell_type": "code",
   "execution_count": 209,
   "id": "a78c6490",
   "metadata": {},
   "outputs": [
    {
     "data": {
      "text/plain": [
       "0.12962489077399514"
      ]
     },
     "execution_count": 209,
     "metadata": {},
     "output_type": "execute_result"
    }
   ],
   "source": [
    "# normalise week totals\n",
    "this = this.multiply(last.to_numpy().sum() / this.to_numpy().sum())\n",
    "\n",
    "# normalise weekdays\n",
    "this = this.multiply((last.sum(axis=1) / this.sum(axis=1)), axis=0)\n",
    "\n",
    "# s value is the ratio of half the absolute diff between this and last week and the normalised sum of this week\n",
    "(last - this).abs().to_numpy().sum() / (this.to_numpy().sum() * 2)"
   ]
  },
  {
   "cell_type": "code",
   "execution_count": 206,
   "id": "ba19d96c",
   "metadata": {},
   "outputs": [
    {
     "data": {
      "text/plain": [
       "0.12962489077399514"
      ]
     },
     "execution_count": 206,
     "metadata": {},
     "output_type": "execute_result"
    }
   ],
   "source": []
  },
  {
   "cell_type": "code",
   "execution_count": 156,
   "id": "45959bc5",
   "metadata": {},
   "outputs": [
    {
     "data": {
      "text/plain": [
       "day\n",
       "1    0.883233\n",
       "2    1.332344\n",
       "3    0.873507\n",
       "4    1.065383\n",
       "5    0.631513\n",
       "6    1.210809\n",
       "7    0.875640\n",
       "dtype: float64"
      ]
     },
     "execution_count": 156,
     "metadata": {},
     "output_type": "execute_result"
    }
   ],
   "source": [
    "(last.sum(axis=1) / this.sum(axis=1))"
   ]
  },
  {
   "cell_type": "code",
   "execution_count": 67,
   "id": "b8e5d8c7",
   "metadata": {},
   "outputs": [
    {
     "name": "stdout",
     "output_type": "stream",
     "text": [
      "last: 2019-12-02 00:00:00, this: 2019-12-09 00:00:00\n",
      "last: 2019-12-09 00:00:00, this: 2019-12-16 00:00:00\n",
      "last: 2019-12-16 00:00:00, this: 2019-12-23 00:00:00\n",
      "last: 2019-12-23 00:00:00, this: 2019-12-30 00:00:00\n",
      "last: 2019-12-30 00:00:00, this: 2020-01-06 00:00:00\n",
      "last: 2020-01-06 00:00:00, this: 2020-01-13 00:00:00\n",
      "last: 2020-01-13 00:00:00, this: 2020-01-20 00:00:00\n",
      "last: 2020-01-20 00:00:00, this: 2020-01-27 00:00:00\n",
      "last: 2020-01-27 00:00:00, this: 2020-02-03 00:00:00\n",
      "last: 2020-02-03 00:00:00, this: 2020-02-10 00:00:00\n",
      "last: 2020-02-10 00:00:00, this: 2020-02-17 00:00:00\n",
      "last: 2020-02-17 00:00:00, this: 2020-02-24 00:00:00\n",
      "last: 2020-02-24 00:00:00, this: 2020-03-02 00:00:00\n",
      "last: 2020-03-02 00:00:00, this: 2020-03-09 00:00:00\n"
     ]
    }
   ],
   "source": [
    "for last_week, this_week in adjacent_pairs(groups):\n",
    "    print(f'last: {last_week.index[0]}, this: {this_week.index[0]}')"
   ]
  },
  {
   "cell_type": "code",
   "execution_count": 9,
   "id": "de1139e3",
   "metadata": {},
   "outputs": [
    {
     "data": {
      "text/plain": [
       "2019-12-30    158.208379\n",
       "2019-12-31    144.175925\n",
       "2020-01-01           NaN\n",
       "2020-01-02    100.161337\n",
       "2020-01-03    135.545775\n",
       "                 ...    \n",
       "2022-12-28     96.117546\n",
       "2022-12-29    127.471070\n",
       "2022-12-30    197.066827\n",
       "2022-12-31           NaN\n",
       "2023-01-01           NaN\n",
       "Freq: D, Name: skill A, Length: 1099, dtype: float64"
      ]
     },
     "execution_count": 9,
     "metadata": {},
     "output_type": "execute_result"
    }
   ],
   "source": [
    "series._.workdays()"
   ]
  },
  {
   "cell_type": "code",
   "execution_count": 176,
   "id": "d31021c9",
   "metadata": {},
   "outputs": [],
   "source": [
    "s2 = series[12:]"
   ]
  },
  {
   "cell_type": "code",
   "execution_count": 250,
   "id": "4e98c241",
   "metadata": {},
   "outputs": [],
   "source": [
    "def _get_origin(_obj, rule):\n",
    "    if (rule / datetime.timedelta(days=7)).is_integer():\n",
    "        days = int(((_obj.index.isocalendar().week[0]-1) * 7) + _obj.index[0].weekday())\n",
    "        return _obj.index[0] - datetime.timedelta(days=days)\n",
    "    elif (rule / datetime.timedelta(days=1)).is_integer():\n",
    "        days = int(_obj.index[0].weekday())\n",
    "        return _obj.index[0] - datetime.timedelta(days=days)\n",
    "    else:\n",
    "        return 'start_day'\n",
    "    \n",
    "\n",
    "def _get_rule(rule):\n",
    "    if isinstance(rule, str):\n",
    "        rule = rule.replace(\" \", \"\").lower()\n",
    "        unit = rule.lstrip('0123456789')\n",
    "        count = int(rule[0:len(rule)-len(unit)]) if len(rule) > len(unit) else 1\n",
    "        if unit in {'μs', 'microsecond', 'microseconds'}:\n",
    "            return datetime.timedelta(microseconds=count)\n",
    "        if unit in {'ms', 'millisecond', 'milliseconds'}:\n",
    "            return datetime.timedelta(milliseconds=count)\n",
    "        if unit in {'s', 'sec', 'second', 'seconds'}:\n",
    "            return datetime.timedelta(seconds=count)\n",
    "        if unit in {'m', 'min', 'minute', 'minutes'}:\n",
    "            return datetime.timedelta(minutes=count)\n",
    "        if unit in {'h', 'hr', 'hrs', 'hour', 'hours'}:\n",
    "            return datetime.timedelta(hours=count)\n",
    "        if unit in {'d', 'day','days'}:\n",
    "            return datetime.timedelta(days=count)\n",
    "        if unit in {'w', 'wk', 'week', 'weeks'}:\n",
    "            return datetime.timedelta(weeks=count)\n",
    "    elif isinstance(rule, int):\n",
    "        return datetime.timedelta(days=rule)\n",
    "    else:\n",
    "        return rule\n",
    "    "
   ]
  },
  {
   "cell_type": "code",
   "execution_count": 245,
   "id": "9a06a94e",
   "metadata": {},
   "outputs": [
    {
     "data": {
      "text/plain": [
       "2020-01-11     31.327838\n",
       "2020-01-12      4.493085\n",
       "2020-01-13    135.274150\n",
       "2020-01-14    127.002800\n",
       "2020-01-15     93.767587\n",
       "                 ...    \n",
       "2022-12-28     96.117546\n",
       "2022-12-29    127.471070\n",
       "2022-12-30    197.066827\n",
       "2022-12-31     42.500659\n",
       "2023-01-01      6.417912\n",
       "Freq: D, Name: skill A, Length: 1087, dtype: float64"
      ]
     },
     "execution_count": 245,
     "metadata": {},
     "output_type": "execute_result"
    }
   ],
   "source": [
    "s2.resample(rule=datetime.timedelta(days=1), origin=_get_origin(s2, rule=_get_rule('1d'))).sum()"
   ]
  },
  {
   "cell_type": "code",
   "execution_count": 21,
   "id": "58035678",
   "metadata": {},
   "outputs": [
    {
     "data": {
      "text/plain": [
       "Timestamp('2019-12-30 00:00:00', freq='D')"
      ]
     },
     "execution_count": 21,
     "metadata": {},
     "output_type": "execute_result"
    }
   ],
   "source": [
    "s2.index[0] + datetime.timedelta(days=-s2.index[0].weekday())"
   ]
  },
  {
   "cell_type": "code",
   "execution_count": 20,
   "id": "11267a1f",
   "metadata": {},
   "outputs": [
    {
     "data": {
      "text/plain": [
       "2"
      ]
     },
     "execution_count": 20,
     "metadata": {},
     "output_type": "execute_result"
    }
   ],
   "source": [
    "s2.index[0].weekday()"
   ]
  },
  {
   "cell_type": "code",
   "execution_count": 254,
   "id": "bfd6062a",
   "metadata": {},
   "outputs": [
    {
     "data": {
      "text/html": [
       "<div>\n",
       "<style scoped>\n",
       "    .dataframe tbody tr th:only-of-type {\n",
       "        vertical-align: middle;\n",
       "    }\n",
       "\n",
       "    .dataframe tbody tr th {\n",
       "        vertical-align: top;\n",
       "    }\n",
       "\n",
       "    .dataframe thead th {\n",
       "        text-align: right;\n",
       "    }\n",
       "</style>\n",
       "<table border=\"1\" class=\"dataframe\">\n",
       "  <thead>\n",
       "    <tr style=\"text-align: right;\">\n",
       "      <th></th>\n",
       "      <th>skill A</th>\n",
       "      <th>skill B</th>\n",
       "      <th>skill C</th>\n",
       "      <th>skill D</th>\n",
       "    </tr>\n",
       "  </thead>\n",
       "  <tbody>\n",
       "    <tr>\n",
       "      <th>2019-12-30</th>\n",
       "      <td>685.997531</td>\n",
       "      <td>549.910836</td>\n",
       "      <td>1245.254115</td>\n",
       "      <td>1753.672148</td>\n",
       "    </tr>\n",
       "    <tr>\n",
       "      <th>2020-01-06</th>\n",
       "      <td>670.893437</td>\n",
       "      <td>514.656206</td>\n",
       "      <td>1253.014090</td>\n",
       "      <td>1654.506732</td>\n",
       "    </tr>\n",
       "    <tr>\n",
       "      <th>2020-01-13</th>\n",
       "      <td>607.482345</td>\n",
       "      <td>435.910233</td>\n",
       "      <td>1211.589305</td>\n",
       "      <td>1570.360409</td>\n",
       "    </tr>\n",
       "    <tr>\n",
       "      <th>2020-01-20</th>\n",
       "      <td>508.892603</td>\n",
       "      <td>462.244749</td>\n",
       "      <td>1333.959576</td>\n",
       "      <td>1696.658155</td>\n",
       "    </tr>\n",
       "    <tr>\n",
       "      <th>2020-01-27</th>\n",
       "      <td>743.900573</td>\n",
       "      <td>350.235980</td>\n",
       "      <td>1415.716155</td>\n",
       "      <td>1884.508563</td>\n",
       "    </tr>\n",
       "    <tr>\n",
       "      <th>...</th>\n",
       "      <td>...</td>\n",
       "      <td>...</td>\n",
       "      <td>...</td>\n",
       "      <td>...</td>\n",
       "    </tr>\n",
       "    <tr>\n",
       "      <th>2022-11-28</th>\n",
       "      <td>787.698062</td>\n",
       "      <td>670.477249</td>\n",
       "      <td>1545.673871</td>\n",
       "      <td>2103.997943</td>\n",
       "    </tr>\n",
       "    <tr>\n",
       "      <th>2022-12-05</th>\n",
       "      <td>775.320456</td>\n",
       "      <td>676.167987</td>\n",
       "      <td>1121.990556</td>\n",
       "      <td>1716.225026</td>\n",
       "    </tr>\n",
       "    <tr>\n",
       "      <th>2022-12-12</th>\n",
       "      <td>719.142576</td>\n",
       "      <td>494.225904</td>\n",
       "      <td>1512.066885</td>\n",
       "      <td>1520.651661</td>\n",
       "    </tr>\n",
       "    <tr>\n",
       "      <th>2022-12-19</th>\n",
       "      <td>751.542647</td>\n",
       "      <td>634.793164</td>\n",
       "      <td>1431.202095</td>\n",
       "      <td>1716.091344</td>\n",
       "    </tr>\n",
       "    <tr>\n",
       "      <th>2022-12-26</th>\n",
       "      <td>660.458725</td>\n",
       "      <td>657.484428</td>\n",
       "      <td>1774.313191</td>\n",
       "      <td>2318.144574</td>\n",
       "    </tr>\n",
       "  </tbody>\n",
       "</table>\n",
       "<p>157 rows × 4 columns</p>\n",
       "</div>"
      ],
      "text/plain": [
       "               skill A     skill B      skill C      skill D\n",
       "2019-12-30  685.997531  549.910836  1245.254115  1753.672148\n",
       "2020-01-06  670.893437  514.656206  1253.014090  1654.506732\n",
       "2020-01-13  607.482345  435.910233  1211.589305  1570.360409\n",
       "2020-01-20  508.892603  462.244749  1333.959576  1696.658155\n",
       "2020-01-27  743.900573  350.235980  1415.716155  1884.508563\n",
       "...                ...         ...          ...          ...\n",
       "2022-11-28  787.698062  670.477249  1545.673871  2103.997943\n",
       "2022-12-05  775.320456  676.167987  1121.990556  1716.225026\n",
       "2022-12-12  719.142576  494.225904  1512.066885  1520.651661\n",
       "2022-12-19  751.542647  634.793164  1431.202095  1716.091344\n",
       "2022-12-26  660.458725  657.484428  1774.313191  2318.144574\n",
       "\n",
       "[157 rows x 4 columns]"
      ]
     },
     "execution_count": 254,
     "metadata": {},
     "output_type": "execute_result"
    }
   ],
   "source": [
    "frame.resample(datetime.timedelta(days=7)).sum()"
   ]
  },
  {
   "cell_type": "code",
   "execution_count": null,
   "id": "617eaeb0",
   "metadata": {},
   "outputs": [],
   "source": []
  }
 ],
 "metadata": {
  "kernelspec": {
   "display_name": "Python 3",
   "language": "python",
   "name": "python3"
  },
  "language_info": {
   "codemirror_mode": {
    "name": "ipython",
    "version": 3
   },
   "file_extension": ".py",
   "mimetype": "text/x-python",
   "name": "python",
   "nbconvert_exporter": "python",
   "pygments_lexer": "ipython3",
   "version": "3.8.5"
  }
 },
 "nbformat": 4,
 "nbformat_minor": 5
}
