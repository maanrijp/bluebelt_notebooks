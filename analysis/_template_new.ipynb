{
 "cells": [
  {
   "cell_type": "code",
   "execution_count": 1,
   "id": "8e9f96b1",
   "metadata": {},
   "outputs": [],
   "source": [
    "import pandas as pd\n",
    "import numpy as np\n",
    "import bluebelt as blue"
   ]
  },
  {
   "cell_type": "code",
   "execution_count": 2,
   "id": "7dd25a84",
   "metadata": {},
   "outputs": [],
   "source": [
    "start = ['2019-12-30', '2021-1-4', '2022-01-03']\n",
    "nrows = [53*7, 52*7, 52*7]\n",
    "trend = [0.9, 1.0, 1.1]\n",
    "\n",
    "np.random.seed(27)\n",
    "f1 = lambda x: 0.000016*(x-170)**3-0.0003*(x-400)**2-0.5*x+250 \n",
    "f2 = lambda x: 0.000012*(x-180)**3-0.0006*(x-200)**2-0.26*x+270\n",
    "\n",
    "s1 = pd.Series(data=np.random.normal(loc=120*trend[0], scale=20*trend[0], size=nrows[0]), index=pd.date_range(start=start[0], periods=nrows[0]), name='skill A').append(\n",
    "     pd.Series(data=np.random.normal(loc=120*trend[1], scale=20*trend[1], size=nrows[1]), index=pd.date_range(start=start[1], periods=nrows[1]), name='skill A')).append(\n",
    "     pd.Series(data=np.random.normal(loc=120*trend[2], scale=20*trend[2], size=nrows[2]), index=pd.date_range(start=start[2], periods=nrows[2]), name='skill A'))\n",
    "s2 = pd.Series(data=np.random.weibull(7*trend[0], nrows[0]) * 100*trend[0], index=pd.date_range(start=start[0], periods=nrows[0]), name='skill B').append(\n",
    "     pd.Series(data=np.random.weibull(7*trend[1], nrows[1]) * 100*trend[1], index=pd.date_range(start=start[1], periods=nrows[1]), name='skill B')).append(\n",
    "     pd.Series(data=np.random.weibull(7*trend[2], nrows[2]) * 100*trend[2], index=pd.date_range(start=start[2], periods=nrows[2]), name='skill B'))\n",
    "s3 = pd.Series(data=np.array(list(map(f1, np.arange(0, nrows[0])))) + (np.random.weibull(7*trend[0], nrows[0]) * 100*trend[0]), index=pd.date_range(start=start[0], periods=nrows[0]), name='skill C').append(\n",
    "     pd.Series(data=np.array(list(map(f1, np.arange(0, nrows[1])))) + (np.random.weibull(7*trend[1], nrows[1]) * 100*trend[1]), index=pd.date_range(start=start[1], periods=nrows[1]), name='skill C')).append(\n",
    "     pd.Series(data=np.array(list(map(f1, np.arange(0, nrows[2])))) + (np.random.weibull(7*trend[2], nrows[2]) * 100*trend[2]), index=pd.date_range(start=start[2], periods=nrows[2]), name='skill C'))\n",
    "s4 = pd.Series(data=np.array(list(map(f2, np.arange(0, nrows[0])))) + (np.random.normal(loc=120*trend[0], scale=20*trend[0], size=nrows[0])), index=pd.date_range(start=start[0], periods=nrows[0]), name='skill D').append(\n",
    "     pd.Series(data=np.array(list(map(f2, np.arange(0, nrows[1])))) + (np.random.normal(loc=120*trend[1], scale=20*trend[1], size=nrows[1])), index=pd.date_range(start=start[1], periods=nrows[1]), name='skill D')).append(\n",
    "     pd.Series(data=np.array(list(map(f2, np.arange(0, nrows[2])))) + (np.random.normal(loc=120*trend[2], scale=20*trend[2], size=nrows[2])), index=pd.date_range(start=start[2], periods=nrows[2]), name='skill D'))\n",
    "\n",
    "frame = pd.concat([s1, s2, s3, s4], axis=1)\n",
    "\n",
    "# week & month pattern\n",
    "w = pd.Series(data=[1.04, 1.29, 0.91, 0.87, 1.21, 0.32, 0.05] * int(sum(nrows) / 7), index=pd.date_range(start=start[0], periods=sum(nrows)))\n",
    "m = pd.Series(data=s1.index.day.map({27: 1.03, 28: 1.06, 29: 1.11, 30: 1.16, 31: 1.09}).fillna(1), index=pd.date_range(start=start[0], periods=sum(nrows)))\n",
    "frame = frame.multiply(w, axis=0).multiply(m, axis=0)\n",
    "\n",
    "#break the frame\n",
    "for col in frame.columns:\n",
    "    frame.at[frame.sample(frac=0.05).index, col] = np.nan # break the frame"
   ]
  },
  {
   "cell_type": "code",
   "execution_count": 4,
   "id": "c3c2ddfc",
   "metadata": {},
   "outputs": [
    {
     "data": {
      "text/html": [
       "<div>\n",
       "<style scoped>\n",
       "    .dataframe tbody tr th:only-of-type {\n",
       "        vertical-align: middle;\n",
       "    }\n",
       "\n",
       "    .dataframe tbody tr th {\n",
       "        vertical-align: top;\n",
       "    }\n",
       "\n",
       "    .dataframe thead th {\n",
       "        text-align: right;\n",
       "    }\n",
       "</style>\n",
       "<table border=\"1\" class=\"dataframe\">\n",
       "  <thead>\n",
       "    <tr style=\"text-align: right;\">\n",
       "      <th></th>\n",
       "      <th>skill A</th>\n",
       "      <th>skill B</th>\n",
       "      <th>skill C</th>\n",
       "      <th>skill D</th>\n",
       "    </tr>\n",
       "  </thead>\n",
       "  <tbody>\n",
       "    <tr>\n",
       "      <th>2019-12-30</th>\n",
       "      <td>158.208379</td>\n",
       "      <td>113.118048</td>\n",
       "      <td>259.764501</td>\n",
       "      <td>348.879230</td>\n",
       "    </tr>\n",
       "    <tr>\n",
       "      <th>2019-12-31</th>\n",
       "      <td>144.175925</td>\n",
       "      <td>109.716266</td>\n",
       "      <td>252.705993</td>\n",
       "      <td>435.819544</td>\n",
       "    </tr>\n",
       "    <tr>\n",
       "      <th>2020-01-01</th>\n",
       "      <td>108.420459</td>\n",
       "      <td>96.149505</td>\n",
       "      <td>180.227036</td>\n",
       "      <td>267.556488</td>\n",
       "    </tr>\n",
       "    <tr>\n",
       "      <th>2020-01-02</th>\n",
       "      <td>100.161337</td>\n",
       "      <td>88.036011</td>\n",
       "      <td>182.006097</td>\n",
       "      <td>269.723424</td>\n",
       "    </tr>\n",
       "    <tr>\n",
       "      <th>2020-01-03</th>\n",
       "      <td>135.545775</td>\n",
       "      <td>108.664752</td>\n",
       "      <td>289.700003</td>\n",
       "      <td>346.066270</td>\n",
       "    </tr>\n",
       "  </tbody>\n",
       "</table>\n",
       "</div>"
      ],
      "text/plain": [
       "               skill A     skill B     skill C     skill D\n",
       "2019-12-30  158.208379  113.118048  259.764501  348.879230\n",
       "2019-12-31  144.175925  109.716266  252.705993  435.819544\n",
       "2020-01-01  108.420459   96.149505  180.227036  267.556488\n",
       "2020-01-02  100.161337   88.036011  182.006097  269.723424\n",
       "2020-01-03  135.545775  108.664752  289.700003  346.066270"
      ]
     },
     "execution_count": 4,
     "metadata": {},
     "output_type": "execute_result"
    }
   ],
   "source": [
    "frame.head(5)"
   ]
  },
  {
   "cell_type": "code",
   "execution_count": 15,
   "id": "8dce43e7",
   "metadata": {},
   "outputs": [
    {
     "data": {
      "text/plain": [
       "Timedelta('1 days 00:00:00')"
      ]
     },
     "execution_count": 15,
     "metadata": {},
     "output_type": "execute_result"
    }
   ],
   "source": [
    "index = frame.dropna().index\n",
    "min(index[1:]-index[:-1])"
   ]
  },
  {
   "cell_type": "code",
   "execution_count": null,
   "id": "912fa799",
   "metadata": {},
   "outputs": [],
   "source": []
  }
 ],
 "metadata": {
  "kernelspec": {
   "display_name": "Python 3",
   "language": "python",
   "name": "python3"
  },
  "language_info": {
   "codemirror_mode": {
    "name": "ipython",
    "version": 3
   },
   "file_extension": ".py",
   "mimetype": "text/x-python",
   "name": "python",
   "nbconvert_exporter": "python",
   "pygments_lexer": "ipython3",
   "version": "3.8.5"
  }
 },
 "nbformat": 4,
 "nbformat_minor": 5
}
