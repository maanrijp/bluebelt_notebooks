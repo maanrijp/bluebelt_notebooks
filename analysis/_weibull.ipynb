{
 "cells": [
  {
   "cell_type": "code",
   "execution_count": 4,
   "id": "8e9f96b1",
   "metadata": {},
   "outputs": [],
   "source": [
    "import pandas as pd\n",
    "import numpy as np\n",
    "import scipy.stats as stats"
   ]
  },
  {
   "cell_type": "code",
   "execution_count": 31,
   "id": "7dd25a84",
   "metadata": {},
   "outputs": [],
   "source": [
    "start = '2022-01-03'\n",
    "nrows = 52*7\n",
    "\n",
    "series = pd.Series(data=np.random.weibull(7, nrows) * 25 + 50, index=pd.date_range(start=start, periods=nrows), name='skill A')\n",
    "series2 = pd.Series(data=np.random.normal(loc=100, scale=25, size=nrows), index=pd.date_range(start=start, periods=nrows), name='skill B')"
   ]
  },
  {
   "cell_type": "code",
   "execution_count": 18,
   "id": "c411d8fb",
   "metadata": {},
   "outputs": [
    {
     "data": {
      "text/plain": [
       "<AxesSubplot:>"
      ]
     },
     "execution_count": 18,
     "metadata": {},
     "output_type": "execute_result"
    },
    {
     "data": {
      "image/png": "[encoded data removed]",
      "text/plain": [
       "<Figure size 432x288 with 1 Axes>"
      ]
     },
     "metadata": {
      "needs_background": "light"
     },
     "output_type": "display_data"
    }
   ],
   "source": [
    "series.plot(marker='o', lw=0)"
   ]
  },
  {
   "cell_type": "code",
   "execution_count": 39,
   "id": "8b3342bc",
   "metadata": {},
   "outputs": [
    {
     "data": {
      "text/plain": [
       "(5.87369429114509, 53.8626852566463, 20.97232401362116)"
      ]
     },
     "execution_count": 39,
     "metadata": {},
     "output_type": "execute_result"
    }
   ],
   "source": [
    "shape, loc, scale = stats.weibull_min.fit(series.values)\n",
    "shape, loc, scale"
   ]
  },
  {
   "cell_type": "code",
   "execution_count": 25,
   "id": "9b196f8d",
   "metadata": {},
   "outputs": [],
   "source": [
    "x = 75"
   ]
  },
  {
   "cell_type": "code",
   "execution_count": 26,
   "id": "dce976fd",
   "metadata": {},
   "outputs": [
    {
     "data": {
      "text/plain": [
       "0.5989143118496965"
      ]
     },
     "execution_count": 26,
     "metadata": {},
     "output_type": "execute_result"
    }
   ],
   "source": [
    "stats.weibull_min.cdf(x, shape, loc=loc, scale=scale)"
   ]
  },
  {
   "cell_type": "code",
   "execution_count": 37,
   "id": "930b990c",
   "metadata": {},
   "outputs": [
    {
     "data": {
      "text/plain": [
       "76.70470249354435"
      ]
     },
     "execution_count": 37,
     "metadata": {},
     "output_type": "execute_result"
    }
   ],
   "source": [
    "stats.weibull_min.ppf(0.9, shape, loc=loc, scale=scale)"
   ]
  },
  {
   "cell_type": "code",
   "execution_count": 35,
   "id": "17727508",
   "metadata": {},
   "outputs": [
    {
     "data": {
      "text/plain": [
       "1.2815515655446004"
      ]
     },
     "execution_count": 35,
     "metadata": {},
     "output_type": "execute_result"
    }
   ],
   "source": [
    "stats.norm.ppf(0.9)"
   ]
  },
  {
   "cell_type": "code",
   "execution_count": 50,
   "id": "1bce0990",
   "metadata": {},
   "outputs": [
    {
     "data": {
      "text/plain": [
       "(6.628708203396595, 0.10583635685606457, 0.8898342841498164)"
      ]
     },
     "execution_count": 50,
     "metadata": {},
     "output_type": "execute_result"
    }
   ],
   "source": [
    "stats.weibull_min.fit(np.random.weibull(7, 100))"
   ]
  },
  {
   "cell_type": "code",
   "execution_count": null,
   "id": "035cc57c",
   "metadata": {},
   "outputs": [],
   "source": []
  }
 ],
 "metadata": {
  "kernelspec": {
   "display_name": "Python 3 (ipykernel)",
   "language": "python",
   "name": "python3"
  },
  "language_info": {
   "codemirror_mode": {
    "name": "ipython",
    "version": 3
   },
   "file_extension": ".py",
   "mimetype": "text/x-python",
   "name": "python",
   "nbconvert_exporter": "python",
   "pygments_lexer": "ipython3",
   "version": "3.8.11"
  }
 },
 "nbformat": 4,
 "nbformat_minor": 5
}
