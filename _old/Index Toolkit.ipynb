{
 "cells": [
  {
   "cell_type": "code",
   "execution_count": 1,
   "id": "ee1c8814",
   "metadata": {},
   "outputs": [],
   "source": [
    "import pandas as pd\n",
    "import numpy as np\n",
    "import bluebelt as blue\n",
    "import matplotlib.pyplot as plt"
   ]
  },
  {
   "cell_type": "code",
   "execution_count": 2,
   "id": "515be01f",
   "metadata": {},
   "outputs": [],
   "source": [
    "nrows = 28 + 7 * 14\n",
    "ncols = 4\n",
    "\n",
    "np.random.seed(27)\n",
    "series = pd.Series(np.random.weibull(7,nrows) * 100, index=pd.date_range(start='2019-12-2', periods=nrows), name='process A')\n",
    "frame = pd.DataFrame(np.random.normal(loc=100, scale=20, size=ncols*nrows).reshape(nrows, ncols), index=pd.date_range(start='1-1-2020', periods=nrows), columns=[f'process {col}' for col in range(1, ncols+1)])\n",
    "\n",
    "series[series.sample(5).index] = np.nan # break the series\n",
    "for col in frame.columns:\n",
    "    frame.at[frame.sample(5).index, col] = np.nan # break the frame"
   ]
  },
  {
   "cell_type": "code",
   "execution_count": 3,
   "id": "4c42d6cc",
   "metadata": {},
   "outputs": [
    {
     "data": {
      "text/plain": [
       "['year', 'week', 'day']"
      ]
     },
     "execution_count": 3,
     "metadata": {},
     "output_type": "execute_result"
    }
   ],
   "source": [
    "s = series.blue.index.groupby(level=['year', 'week'])\n",
    "l = s._obj.index.isocalendar().nunique()\n",
    "list(l[l>1].index)"
   ]
  },
  {
   "cell_type": "code",
   "execution_count": 60,
   "id": "fc2a5713",
   "metadata": {},
   "outputs": [
    {
     "data": {
      "text/plain": [
       "year      2\n",
       "month     5\n",
       "day      31\n",
       "dtype: int64"
      ]
     },
     "execution_count": 60,
     "metadata": {},
     "output_type": "execute_result"
    }
   ],
   "source": [
    "s = series.blue.index.groupby(level=['year', 'week'])\n",
    "\n",
    "pd.Series(\n",
    "{\n",
    "    'year': s._obj.index.year.nunique(),\n",
    "    'month': s._obj.index.month.nunique(),\n",
    "    'day': s._obj.index.day.nunique(),\n",
    "})\n"
   ]
  },
  {
   "cell_type": "code",
   "execution_count": 13,
   "id": "7c34f2dd",
   "metadata": {},
   "outputs": [
    {
     "data": {
      "text/plain": [
       "array([   0.,  168.,  336.,  504.,  672.,  840., 1008., 1176., 1344.,\n",
       "       1512., 1680., 1848., 2016., 2184., 2352., 2520., 2688., 2855.])"
      ]
     },
     "execution_count": 13,
     "metadata": {},
     "output_type": "execute_result"
    }
   ],
   "source": [
    "_index = blue.core.index.IndexToolkit(s.index).alt\n",
    "_index"
   ]
  },
  {
   "cell_type": "code",
   "execution_count": 17,
   "id": "66bb074b",
   "metadata": {},
   "outputs": [],
   "source": [
    "plt.rc('font')"
   ]
  },
  {
   "cell_type": "code",
   "execution_count": 4,
   "id": "35776029",
   "metadata": {},
   "outputs": [
    {
     "ename": "AttributeError",
     "evalue": "'GroupByDatetimeIndex' object has no attribute 'index'",
     "output_type": "error",
     "traceback": [
      "\u001b[0;31m---------------------------------------------------------------------------\u001b[0m",
      "\u001b[0;31mAttributeError\u001b[0m                            Traceback (most recent call last)",
      "\u001b[0;32m<ipython-input-4-3bd3e15f4db8>\u001b[0m in \u001b[0;36m<module>\u001b[0;34m\u001b[0m\n\u001b[0;32m----> 1\u001b[0;31m \u001b[0m_index\u001b[0m \u001b[0;34m=\u001b[0m \u001b[0mblue\u001b[0m\u001b[0;34m.\u001b[0m\u001b[0mcore\u001b[0m\u001b[0;34m.\u001b[0m\u001b[0mindex\u001b[0m\u001b[0;34m.\u001b[0m\u001b[0mIndexToolkit\u001b[0m\u001b[0;34m(\u001b[0m\u001b[0ms\u001b[0m\u001b[0;34m.\u001b[0m\u001b[0mindex\u001b[0m\u001b[0;34m)\u001b[0m\u001b[0;34m.\u001b[0m\u001b[0malt\u001b[0m\u001b[0;34m\u001b[0m\u001b[0;34m\u001b[0m\u001b[0m\n\u001b[0m\u001b[1;32m      2\u001b[0m \u001b[0;34m\u001b[0m\u001b[0m\n\u001b[1;32m      3\u001b[0m \u001b[0mfig\u001b[0m\u001b[0;34m,\u001b[0m \u001b[0max\u001b[0m \u001b[0;34m=\u001b[0m \u001b[0mplt\u001b[0m\u001b[0;34m.\u001b[0m\u001b[0msubplots\u001b[0m\u001b[0;34m(\u001b[0m\u001b[0mnrows\u001b[0m\u001b[0;34m=\u001b[0m\u001b[0;36m1\u001b[0m\u001b[0;34m,\u001b[0m \u001b[0mncols\u001b[0m\u001b[0;34m=\u001b[0m\u001b[0;36m1\u001b[0m\u001b[0;34m)\u001b[0m\u001b[0;34m\u001b[0m\u001b[0;34m\u001b[0m\u001b[0m\n\u001b[1;32m      4\u001b[0m \u001b[0max\u001b[0m\u001b[0;34m.\u001b[0m\u001b[0mplot\u001b[0m\u001b[0;34m(\u001b[0m\u001b[0m_index\u001b[0m\u001b[0;34m,\u001b[0m \u001b[0ms\u001b[0m\u001b[0;34m)\u001b[0m\u001b[0;34m\u001b[0m\u001b[0;34m\u001b[0m\u001b[0m\n\u001b[1;32m      5\u001b[0m \u001b[0mblue\u001b[0m\u001b[0;34m.\u001b[0m\u001b[0mhelpers\u001b[0m\u001b[0;34m.\u001b[0m\u001b[0mxticks\u001b[0m\u001b[0;34m.\u001b[0m\u001b[0mset_multiindex_xticks\u001b[0m\u001b[0;34m(\u001b[0m\u001b[0max\u001b[0m\u001b[0;34m=\u001b[0m\u001b[0max\u001b[0m\u001b[0;34m,\u001b[0m \u001b[0mindex\u001b[0m\u001b[0;34m=\u001b[0m\u001b[0ms\u001b[0m\u001b[0;34m.\u001b[0m\u001b[0mindex\u001b[0m\u001b[0;34m)\u001b[0m\u001b[0;34m\u001b[0m\u001b[0;34m\u001b[0m\u001b[0m\n",
      "\u001b[0;31mAttributeError\u001b[0m: 'GroupByDatetimeIndex' object has no attribute 'index'"
     ]
    }
   ],
   "source": [
    "_index = blue.core.index.IndexToolkit(s.index).alt\n",
    "\n",
    "fig, ax = plt.subplots(nrows=1, ncols=1)\n",
    "ax.plot(_index, s)\n",
    "blue.helpers.xticks.set_multiindex_xticks(ax=ax, index=s.index)\n",
    "\n",
    "\n",
    "f = ax.get_figure()\n",
    "bbox = ax.get_window_extent().transformed(f.dpi_scale_trans.inverted())\n",
    "plt.show()"
   ]
  },
  {
   "cell_type": "code",
   "execution_count": 21,
   "id": "1f2ac1a4",
   "metadata": {},
   "outputs": [
    {
     "data": {
      "text/plain": [
       "5.284999999999999"
      ]
     },
     "execution_count": 21,
     "metadata": {},
     "output_type": "execute_result"
    }
   ],
   "source": [
    "bbox.height"
   ]
  },
  {
   "cell_type": "code",
   "execution_count": null,
   "id": "df1e93f5",
   "metadata": {},
   "outputs": [],
   "source": [
    "import matplotlib.transforms as transforms\n",
    "\n",
    "def _get_multiindex_xticks(index, level, factor):\n",
    "    \n",
    "    codes = index.codes[level]\n",
    "    \n",
    "    # build values\n",
    "    values = np.array([index.levels[level][code] for code in codes])\n",
    "    label_values = values[np.where(np.append(values[:-1] != values[1:], True))[0]]\n",
    "    values = (np.ceil((values / factor) - 1) * factor) + 1\n",
    "    \n",
    "    \n",
    "    sub_values = np.concatenate(([0,], (np.where(values[:-1] != values[1:])[0]) + 1, [len(values)]))\n",
    "\n",
    "    # get interval medians\n",
    "    median_func = lambda x: (x-1)/2\n",
    "    intervals = sub_values[1:]-sub_values[:-1]\n",
    "    intervals = median_func(intervals)\n",
    "\n",
    "    # get new xticks\n",
    "    xticks = intervals + sub_values[:-1]\n",
    "\n",
    "    # make new labels\n",
    "    label_values_grouped = (np.ceil((label_values / factor) - 1) * factor) + 1\n",
    "    index_min = np.concatenate(([0,], (np.where(label_values_grouped[:-1] != label_values_grouped[1:])[0]) + 1))\n",
    "    index_max = np.concatenate((np.where(label_values_grouped[:-1] != label_values_grouped[1:])[0], [len(label_values_grouped) - 1]))\n",
    "    s1 = np.maximum(np.array([label_values[i] for i in index_min]), np.array([label_values_grouped[i] for i in index_min])).astype(int)\n",
    "    s2 = np.array([label_values[i] for i in index_max]).astype(int)\n",
    "    if factor > 1:\n",
    "        # check if the last tick value is in s1 or s2\n",
    "        if not label_values[-1] in np.concatenate((s1, s2), 0):\n",
    "            s2 = np.append(s2, label_values[-1])\n",
    "        xticklabels = [f'{s1[i]}-{s2[i]}' if (s1[i]!=s2[i] and i < len(s2)) else f'{s1[i]}' for i in range(len(s1))]\n",
    "    else:\n",
    "        xticklabels = label_values\n",
    "\n",
    "    # calculate location of lines\n",
    "    line_locations = np.concatenate(([1,], np.diff(values, n=1)[:-1])).nonzero()[0]\n",
    "    line_locations = (np.concatenate((line_locations, [s.shape[0]])))\n",
    "    line_locations = line_locations - 0.5\n",
    "    \n",
    "    return xticks, xticklabels, line_locations\n",
    "\n",
    "def _find_multiindex_levels(index, levels, final_assembly=True):\n",
    "    names = index.names\n",
    "    if isinstance(levels, str):\n",
    "        levels = names.index(levels)\n",
    "    elif isinstance(levels, int):\n",
    "        levels = levels\n",
    "    elif isinstance(levels, (list, tuple)):\n",
    "        levels = sorted([_find_multiindex_levels(index=index, levels=level, final_assembly=False) for level in levels], reverse=True)\n",
    "    \n",
    "    # make the levels a list if \n",
    "    if final_assembly and not isinstance(levels, list):\n",
    "        levels = [levels]\n",
    "    return levels\n",
    "\n",
    "def _add_line(ax, xpos, ypos, length):\n",
    "    trans = transforms.blended_transform_factory(ax.transData, ax.transAxes)\n",
    "    line = plt.Line2D([xpos, xpos], [ypos - length, ypos], color='black', transform=trans)\n",
    "    line.set_clip_on(False)\n",
    "    ax.add_line(line)\n",
    "    \n",
    "def set_multiindex_xticks(ax, index, levels=[0, 1], factor=1):\n",
    "    trans = transforms.blended_transform_factory(ax.transData, ax.transAxes)\n",
    "    # get the proper levels\n",
    "    levels = _find_multiindex_levels(index=index, levels=levels)\n",
    "    \n",
    "    # hide the old ticks\n",
    "    ax.tick_params(axis='x', length=0)\n",
    "    \n",
    "    for i, level in enumerate(levels):\n",
    "        if i == 0:\n",
    "            xticks, xticklabels, line_locations = _get_multiindex_xticks(index=index, level=level, factor=factor)\n",
    "            \n",
    "            # set real xticks\n",
    "            ax.set_xticks(xticks)\n",
    "            ax.set_xticklabels(xticklabels)\n",
    "            \n",
    "            # draw lines between xticks\n",
    "            ypos = 0.005\n",
    "            length = 0.01\n",
    "            for xpos in line_locations:\n",
    "                _add_line(ax, xpos, ypos, length)\n",
    "                \n",
    "        else:\n",
    "            xticks, xticklabels, line_locations = _get_multiindex_xticks(index=index, level=level, factor=1)\n",
    "            \n",
    "            label_pos = -0.08\n",
    "            # set extra xticks\n",
    "            for tick, label in zip(xticks, xticklabels):\n",
    "                ax.text(tick, label_pos, label, ha='center', transform=trans)\n",
    "            \n",
    "            # draw lines between xticks\n",
    "            ypos = 0.005\n",
    "            length = 0.08\n",
    "            for xpos in line_locations:\n",
    "                _add_line(ax, xpos, ypos, length)\n",
    "             "
   ]
  },
  {
   "cell_type": "code",
   "execution_count": 7,
   "id": "b3989cd4",
   "metadata": {},
   "outputs": [
    {
     "data": {
      "image/png": "[encoded data removed]",
      "text/plain": [
       "<Figure size 720x504 with 1 Axes>"
      ]
     },
     "metadata": {},
     "output_type": "display_data"
    }
   ],
   "source": [
    "fig, axes = plt.subplots(nrows=1, ncols=1)\n",
    "axes.plot(range(0, len(s), 1), s)\n",
    "set_multiindex_xticks(ax=axes, index=s.index)        \n",
    "plt.show()"
   ]
  },
  {
   "cell_type": "code",
   "execution_count": null,
   "id": "ae250dcc",
   "metadata": {},
   "outputs": [],
   "source": []
  },
  {
   "cell_type": "code",
   "execution_count": null,
   "id": "9833d455",
   "metadata": {},
   "outputs": [],
   "source": []
  },
  {
   "cell_type": "code",
   "execution_count": null,
   "id": "d6e32fa5",
   "metadata": {},
   "outputs": [],
   "source": []
  },
  {
   "cell_type": "code",
   "execution_count": null,
   "id": "9ba323b1",
   "metadata": {},
   "outputs": [],
   "source": []
  },
  {
   "cell_type": "code",
   "execution_count": 304,
   "id": "b422a5c9",
   "metadata": {},
   "outputs": [],
   "source": [
    "# dit ophalen\n",
    "# ticks = axes.get_xticks()\n",
    "\n",
    "# t = [int(tick) for tick in ticks if tick in range(len(s))]\n",
    "\n",
    "# als len ticks > level length dan next level\n",
    "# anders deze level pakken en ticklabels bepalen\n",
    "# daarna weer een level terug en deze toevoegen op locatie mediaan van bovenliggende\n",
    "\n",
    "def get_tick_level(ticks, levels):\n",
    "    for level in range(levels):\n",
    "        if len(ticks) <= len(s.index.levels[level]):\n",
    "            return level\n",
    "        \n",
    "# get_tick_level(t, s.index.nlevels)"
   ]
  },
  {
   "cell_type": "code",
   "execution_count": 305,
   "id": "8fec5ab8",
   "metadata": {},
   "outputs": [],
   "source": [
    "#def get_xticks(level, factor):\n",
    "    \n",
    "# nog toevoegen\n",
    "\n",
    "\n",
    "# - year level\n",
    "# - bij overgang naar nieuw jaar een knip\n",
    "# - vaste lengte?\n",
    "#\n",
    "# - de codes staan niet altijd in volgorde\n",
    "# => eerst een recode met wel de juiste volgorde?\n",
    "# => overgang tussen jaren @#$@#$%**!!!!\n",
    "\n",
    "\n",
    "level = 1\n",
    "factor = 3\n",
    "\n",
    "# get label location and values\n",
    "# get current codes\n",
    "codes = s.index.codes[level]\n",
    "\n",
    "# recode codes\n",
    "recode = lambda x: np.floor(x/factor)\n",
    "codes = recode(codes).astype(int)\n",
    "\n",
    "values = np.array([s.index.levels[level][x] for x in s.index.codes[level]])\n",
    "\n",
    "# make bins\n",
    "bins = np.bincount(codes)\n",
    "\n",
    "# get bin medians\n",
    "median_func = lambda x: (x-1)/2\n",
    "bin_medians = median_func(bins)\n",
    "\n",
    "# get bin cumsum for 0 + bins[:-1]\n",
    "bin_cumsum = np.insert(bins,0,0)[:-1]\n",
    "bin_cumsum = np.cumsum(bin_cumsum)\n",
    "\n",
    "# calculate new ticks\n",
    "new_xticks = np.add(bin_cumsum, bin_medians)\n",
    "\n",
    "# make new labels\n",
    "if factor > 1:\n",
    "    # get first and last value\n",
    "    s1 = s.index.levels[level][::factor]\n",
    "    s2 = s.index.levels[level][factor-1::factor]\n",
    "\n",
    "    # check if the last tick value is in s1 or s2\n",
    "    if not s.index.levels[level][-1] in np.concatenate((s1, s2), 0):\n",
    "        s2 = np.append(s2, s.index.levels[level][-1])\n",
    "\n",
    "    # build new labels\n",
    "    new_xticklabels = [f'{s1[i]}-{s2[i]}' if i < len(s2) else f'{s1[i]}' for i in range(len(s1))]\n",
    "    # new_xticklabels = [f'{s1[i]}-' if i < len(s2) else f'{s1[i]}' for i in range(len(s1))]\n",
    "else:\n",
    "    new_xticklabels = s.index.levels[level]\n",
    "\n",
    "# calculate location of lines\n",
    "locations = np.concatenate(([1,], np.diff(codes, n=1)[:-1])).nonzero()[0]\n",
    "locations = np.concatenate((locations, [s.shape[0] + 1]))\n",
    "locations = locations - 0.5\n",
    "#return new_xticks, new_xticklabels, locations"
   ]
  },
  {
   "cell_type": "code",
   "execution_count": 306,
   "id": "511f9919",
   "metadata": {},
   "outputs": [
    {
     "data": {
      "text/plain": [
       "array([49, 49, 49, 49, 49, 49, 49, 50, 50, 50, 50, 50, 50, 50, 51, 51, 51,\n",
       "       51, 51, 51, 51, 52, 52, 52, 52, 52, 52, 52,  1,  1,  1,  1,  1,  1,\n",
       "        1,  2,  2,  2,  2,  2,  2,  2,  3,  3,  3,  3,  3,  3,  3,  4,  4,\n",
       "        4,  4,  4,  4,  4])"
      ]
     },
     "execution_count": 306,
     "metadata": {},
     "output_type": "execute_result"
    }
   ],
   "source": [
    "np.array([s.index.levels[1][code] for code in s.index.codes[1]])"
   ]
  },
  {
   "cell_type": "code",
   "execution_count": 491,
   "id": "bcb4dd74",
   "metadata": {},
   "outputs": [],
   "source": [
    "#\n",
    "# dit is de goede!!!\n",
    "# alleen nog de jaarwisselingen\n",
    "#\n",
    "#\n",
    "\n",
    "\n",
    "\n",
    "def get_xticks(index, level, factor):\n",
    "    \n",
    "    codes = index.codes[level]\n",
    "    \n",
    "    # build values\n",
    "    values = np.array([index.levels[level][code] for code in codes])\n",
    "    label_values = values[np.where(np.append(values[:-1] != values[1:], True))[0]]\n",
    "    values = (np.ceil((values / factor) - 1) * factor) + 1\n",
    "    \n",
    "    \n",
    "    sub_values = np.concatenate(([0,], (np.where(values[:-1] != values[1:])[0]) + 1, [len(values)]))\n",
    "\n",
    "    # get interval medians\n",
    "    median_func = lambda x: (x-1)/2\n",
    "    intervals = sub_values[1:]-sub_values[:-1]\n",
    "    intervals = median_func(intervals)\n",
    "\n",
    "    # get new xticks\n",
    "    xticks = intervals + sub_values[:-1]\n",
    "\n",
    "    # make new labels\n",
    "    # get only the first number of a sequence\n",
    "    #firsts = index.codes[level][np.where(np.append(index.codes[level][:-1] != index.codes[level][1:], True))[0]]\n",
    "    #values = np.array([index.levels[level][code] for code in firsts])\n",
    "    label_values_f = (np.ceil((label_values / factor) - 1) * factor) + 1\n",
    "    index_min = np.concatenate(([0,], (np.where(label_values_f[:-1] != label_values_f[1:])[0]) + 1))\n",
    "    index_max = np.concatenate((np.where(label_values_f[:-1] != label_values_f[1:])[0], [len(label_values_f) - 1]))\n",
    "\n",
    "\n",
    "    s1 = np.maximum(np.array([label_values[i] for i in index_min]), np.array([label_values_f[i] for i in index_min])).astype(int)\n",
    "    s2 = np.array([label_values[i] for i in index_max]).astype(int)\n",
    "    if factor > 1:\n",
    "        # get first and last value\n",
    "        # s1 = label_values[::factor]\n",
    "        # s2 = label_values[factor-1::factor]\n",
    "\n",
    "        # check if the last tick value is in s1 or s2\n",
    "        if not label_values[-1] in np.concatenate((s1, s2), 0):\n",
    "            s2 = np.append(s2, label_values[-1])\n",
    "\n",
    "        # build new labels\n",
    "        xticklabels = [f'{s1[i]}-{s2[i]}' if (s1[i]!=s2[i] and i < len(s2)) else f'{s1[i]}' for i in range(len(s1))]\n",
    "    else:\n",
    "        xticklabels = label_values\n",
    "\n",
    "    # calculate location of lines\n",
    "    line_locations = np.concatenate(([1,], np.diff(values, n=1)[:-1])).nonzero()[0]\n",
    "    line_locations = (np.concatenate((line_locations, [s.shape[0]])))\n",
    "    line_locations = line_locations - 0.5\n",
    "    \n",
    "    return xticks, xticklabels, line_locations"
   ]
  },
  {
   "cell_type": "code",
   "execution_count": 1,
   "id": "fd5ce8a0",
   "metadata": {},
   "outputs": [
    {
     "ename": "NameError",
     "evalue": "name 's' is not defined",
     "output_type": "error",
     "traceback": [
      "\u001b[0;31m---------------------------------------------------------------------------\u001b[0m",
      "\u001b[0;31mNameError\u001b[0m                                 Traceback (most recent call last)",
      "\u001b[0;32m<ipython-input-1-2c915bcd4cf9>\u001b[0m in \u001b[0;36m<module>\u001b[0;34m\u001b[0m\n\u001b[1;32m     12\u001b[0m     \u001b[0;32mreturn\u001b[0m \u001b[0mlevels\u001b[0m\u001b[0;34m\u001b[0m\u001b[0;34m\u001b[0m\u001b[0m\n\u001b[1;32m     13\u001b[0m \u001b[0;34m\u001b[0m\u001b[0m\n\u001b[0;32m---> 14\u001b[0;31m \u001b[0m_find_multiindex_levels\u001b[0m\u001b[0;34m(\u001b[0m\u001b[0mindex\u001b[0m\u001b[0;34m=\u001b[0m\u001b[0ms\u001b[0m\u001b[0;34m.\u001b[0m\u001b[0mindex\u001b[0m\u001b[0;34m,\u001b[0m \u001b[0mlevels\u001b[0m\u001b[0;34m=\u001b[0m\u001b[0;34m[\u001b[0m\u001b[0;34m'week'\u001b[0m\u001b[0;34m,\u001b[0m \u001b[0;34m'year'\u001b[0m\u001b[0;34m]\u001b[0m\u001b[0;34m)\u001b[0m\u001b[0;34m\u001b[0m\u001b[0;34m\u001b[0m\u001b[0m\n\u001b[0m",
      "\u001b[0;31mNameError\u001b[0m: name 's' is not defined"
     ]
    }
   ],
   "source": [
    "def _find_multiindex_levels(index, levels):\n",
    "    names = index.names\n",
    "    if isinstance(levels, str):\n",
    "        levels = names.index(levels)\n",
    "    elif isinstance(levels, int):\n",
    "        levels = levels\n",
    "    elif isinstance(levels, (list, tuple)):\n",
    "        levels = sorted([_find_multiindex_levels(index=index, levels=level) for level in levels], reverse=True)\n",
    "        \n",
    "    if not isinstance(levels, list):\n",
    "        levels = [levels]\n",
    "    return levels\n",
    "    \n",
    "_find_multiindex_levels(index=s.index, levels=['week', 'year'])\n"
   ]
  },
  {
   "cell_type": "code",
   "execution_count": 550,
   "id": "68db316f",
   "metadata": {},
   "outputs": [
    {
     "name": "stdout",
     "output_type": "stream",
     "text": [
      "a\n",
      "b\n",
      "c\n"
     ]
    }
   ],
   "source": [
    "x = ['a','b','c']\n",
    "y = ['d','e','f']\n",
    "\n",
    "for z in zip(x,y):\n",
    "    print(z[0])"
   ]
  },
  {
   "cell_type": "code",
   "execution_count": 334,
   "id": "777d4476",
   "metadata": {},
   "outputs": [
    {
     "data": {
      "text/plain": [
       "array([13.5, 41.5])"
      ]
     },
     "execution_count": 334,
     "metadata": {},
     "output_type": "execute_result"
    }
   ],
   "source": [
    "sub_vals = np.concatenate(([0,], (np.where(vals[:-1] != vals[1:])[0]) + 1, [len(vals)]))\n",
    "\n",
    "# get interval medians\n",
    "median_func = lambda x: (x-1)/2\n",
    "intervals = sub_vals[1:]-sub_vals[:-1]\n",
    "intervals = median_func(intervals)\n",
    "\n",
    "# get new xticks\n",
    "xticks = intervals + sub_vals[:-1]\n",
    "xticks"
   ]
  },
  {
   "cell_type": "code",
   "execution_count": 332,
   "id": "d3e3e8f7",
   "metadata": {},
   "outputs": [
    {
     "data": {
      "text/plain": [
       "56"
      ]
     },
     "execution_count": 332,
     "metadata": {},
     "output_type": "execute_result"
    }
   ],
   "source": [
    "len(vals)"
   ]
  },
  {
   "cell_type": "code",
   "execution_count": 320,
   "id": "38396f92",
   "metadata": {},
   "outputs": [
    {
     "data": {
      "text/plain": [
       "array([49, 49, 49, 49, 49, 49, 49, 50, 50, 50, 50, 50, 50, 50, 51, 51, 51,\n",
       "       51, 51, 51, 51, 52, 52, 52, 52, 52, 52, 52,  1,  1,  1,  1,  1,  1,\n",
       "        1,  2,  2,  2,  2,  2,  2,  2,  3,  3,  3,  3,  3,  3,  3,  4,  4,\n",
       "        4,  4,  4,  4,  4])"
      ]
     },
     "execution_count": 320,
     "metadata": {},
     "output_type": "execute_result"
    }
   ],
   "source": [
    "vals"
   ]
  },
  {
   "cell_type": "code",
   "execution_count": 323,
   "id": "50b8add3",
   "metadata": {},
   "outputs": [
    {
     "data": {
      "text/plain": [
       "array([ 4.,  4.,  4.,  4.,  4.,  4.,  4., nan, nan, nan, nan, nan, nan,\n",
       "       nan,  6.,  6.,  6.,  6.,  6.,  6.,  6., nan, nan, nan, nan, nan,\n",
       "       nan, nan,  0.,  0.,  0.,  0.,  0.,  0.,  0., nan, nan, nan, nan,\n",
       "       nan, nan, nan,  2.,  2.,  2.,  2.,  2.,  2.,  2., nan, nan, nan,\n",
       "       nan, nan, nan, nan])"
      ]
     },
     "execution_count": 323,
     "metadata": {},
     "output_type": "execute_result"
    }
   ],
   "source": [
    "# maar dat geen nan maar de vorige code dus\n",
    "np.where(vals==x, codes, np.nan)\n",
    "\n",
    "# iets met list comprehension?"
   ]
  },
  {
   "cell_type": "code",
   "execution_count": 493,
   "id": "62167dd8",
   "metadata": {},
   "outputs": [],
   "source": []
  },
  {
   "cell_type": "code",
   "execution_count": 494,
   "id": "665c7f62",
   "metadata": {},
   "outputs": [],
   "source": [
    "def _add_line(ax, xpos, ypos):\n",
    "    trans = transforms.blended_transform_factory(ax.transData, ax.transAxes)\n",
    "    line = plt.Line2D([xpos, xpos], [ypos - 0.01, ypos], color='black', transform=trans)\n",
    "    line.set_clip_on(False)\n",
    "    ax.add_line(line)"
   ]
  },
  {
   "cell_type": "code",
   "execution_count": 557,
   "id": "b7fb6538",
   "metadata": {},
   "outputs": [
    {
     "data": {
      "text/plain": [
       "(array([  3.,  10.,  17.,  24.,  31.,  38.,  45.,  52.,  59.,  66.,  73.,\n",
       "         80.,  87.,  94., 101., 108., 115., 122.]),\n",
       " array([49, 50, 51, 52,  1,  2,  3,  4,  5,  6,  7,  8,  9, 10, 11, 12, 13,\n",
       "        14]),\n",
       " array([ -0.5,   6.5,  13.5,  20.5,  27.5,  34.5,  41.5,  48.5,  55.5,\n",
       "         62.5,  69.5,  76.5,  83.5,  90.5,  97.5, 104.5, 111.5, 118.5,\n",
       "        125.5]))"
      ]
     },
     "execution_count": 557,
     "metadata": {},
     "output_type": "execute_result"
    }
   ],
   "source": [
    "_get_multiindex_xticks(index=s.index, level=1, factor=1)"
   ]
  },
  {
   "cell_type": "code",
   "execution_count": 515,
   "id": "ad345439",
   "metadata": {},
   "outputs": [
    {
     "ename": "TypeError",
     "evalue": "get_xticks() got an unexpected keyword argument 'codes'",
     "output_type": "error",
     "traceback": [
      "\u001b[0;31m---------------------------------------------------------------------------\u001b[0m",
      "\u001b[0;31mTypeError\u001b[0m                                 Traceback (most recent call last)",
      "\u001b[0;32m<ipython-input-515-b7b94790e788>\u001b[0m in \u001b[0;36m<module>\u001b[0;34m\u001b[0m\n\u001b[0;32m----> 1\u001b[0;31m \u001b[0mnew_xticks\u001b[0m\u001b[0;34m,\u001b[0m \u001b[0mnew_xticklabels\u001b[0m\u001b[0;34m,\u001b[0m \u001b[0mlocations\u001b[0m \u001b[0;34m=\u001b[0m \u001b[0mget_xticks\u001b[0m\u001b[0;34m(\u001b[0m\u001b[0mcodes\u001b[0m\u001b[0;34m=\u001b[0m\u001b[0ms\u001b[0m\u001b[0;34m.\u001b[0m\u001b[0mindex\u001b[0m\u001b[0;34m.\u001b[0m\u001b[0mcodes\u001b[0m\u001b[0;34m[\u001b[0m\u001b[0;36m1\u001b[0m\u001b[0;34m]\u001b[0m\u001b[0;34m,\u001b[0m \u001b[0mfactor\u001b[0m\u001b[0;34m=\u001b[0m\u001b[0;36m1\u001b[0m\u001b[0;34m)\u001b[0m\u001b[0;34m\u001b[0m\u001b[0;34m\u001b[0m\u001b[0m\n\u001b[0m\u001b[1;32m      2\u001b[0m \u001b[0mlocations\u001b[0m\u001b[0;34m\u001b[0m\u001b[0;34m\u001b[0m\u001b[0m\n",
      "\u001b[0;31mTypeError\u001b[0m: get_xticks() got an unexpected keyword argument 'codes'"
     ]
    }
   ],
   "source": [
    "new_xticks, new_xticklabels, locations = get_xticks(codes=s.index.codes[1], factor=1)\n",
    "locations"
   ]
  },
  {
   "cell_type": "code",
   "execution_count": 15,
   "id": "c21abcf2",
   "metadata": {},
   "outputs": [
    {
     "data": {
      "text/plain": [
       "array([1, 1, 1, 1, 1, 1, 1, 2, 2, 2, 2, 2, 2, 2, 3, 3, 3, 3, 3, 3, 3, 4,\n",
       "       4, 4, 4, 4, 4, 4, 5, 5, 5, 5, 5, 5, 5])"
      ]
     },
     "execution_count": 15,
     "metadata": {},
     "output_type": "execute_result"
    }
   ],
   "source": [
    "np.array([s.index.levels[1][level] for level in s.index.codes[1]])"
   ]
  },
  {
   "cell_type": "code",
   "execution_count": null,
   "id": "7273d517",
   "metadata": {},
   "outputs": [],
   "source": []
  },
  {
   "cell_type": "code",
   "execution_count": null,
   "id": "e6541bc5",
   "metadata": {},
   "outputs": [],
   "source": []
  }
 ],
 "metadata": {
  "kernelspec": {
   "display_name": "Python 3",
   "language": "python",
   "name": "python3"
  },
  "language_info": {
   "codemirror_mode": {
    "name": "ipython",
    "version": 3
   },
   "file_extension": ".py",
   "mimetype": "text/x-python",
   "name": "python",
   "nbconvert_exporter": "python",
   "pygments_lexer": "ipython3",
   "version": "3.8.5"
  }
 },
 "nbformat": 4,
 "nbformat_minor": 5
}
