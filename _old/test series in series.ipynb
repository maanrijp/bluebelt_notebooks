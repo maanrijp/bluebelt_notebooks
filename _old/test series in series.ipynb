{
 "cells": [
  {
   "cell_type": "code",
   "execution_count": 1,
   "metadata": {},
   "outputs": [],
   "source": [
    "import pandas as pd\n",
    "import numpy as np\n",
    "import datetime\n",
    "import math\n",
    "import matplotlib.pyplot as plt\n",
    "import seaborn as sns"
   ]
  },
  {
   "cell_type": "code",
   "execution_count": 2,
   "metadata": {},
   "outputs": [],
   "source": [
    "df = pd.read_excel('data/data.xlsx', sheet_name='data')"
   ]
  },
  {
   "cell_type": "code",
   "execution_count": 3,
   "metadata": {},
   "outputs": [],
   "source": [
    "dfx = df.pivot_table(values='hours', index='date', columns='department')"
   ]
  },
  {
   "cell_type": "code",
   "execution_count": 4,
   "metadata": {},
   "outputs": [],
   "source": [
    "dfx = dfx[['pick','pack']].dropna()"
   ]
  },
  {
   "cell_type": "code",
   "execution_count": 5,
   "metadata": {},
   "outputs": [],
   "source": [
    "def count_of_size_in_series(series, size=3):\n",
    "    series = pd.Series(series)\n",
    "    count_of_size=series.sum()*size\n",
    "    for i in range(size, 0, -1):\n",
    "        cs = math.floor(series.nsmallest(len(series) - size + i).sum() / i)\n",
    "        count_of_size = min(count_of_size, cs)\n",
    "    return count_of_size"
   ]
  },
  {
   "cell_type": "code",
   "execution_count": 6,
   "metadata": {},
   "outputs": [
    {
     "data": {
      "text/plain": [
       "9"
      ]
     },
     "execution_count": 6,
     "metadata": {},
     "output_type": "execute_result"
    }
   ],
   "source": [
    "count_of_size_in_series([10, 8, 3, 3, 5])"
   ]
  },
  {
   "cell_type": "code",
   "execution_count": 7,
   "metadata": {},
   "outputs": [],
   "source": [
    "def count_of_series_in_series(s1, s2):\n",
    "    s1 = pd.Series(s1)#.sort_values(ascending=False).reset_index(drop=True)\n",
    "    s2 = pd.Series(s2)#.sort_values(ascending=False).reset_index(drop=True)\n",
    "    \n",
    "    count_of_size=s1.sum()*s2.sum()\n",
    "    \n",
    "    for i in range(len(s2), 0, -1):\n",
    "        cs = math.floor(s1.nsmallest(len(s1) - len(s2) + i).sum() / s2.nsmallest(i).sum())\n",
    "        count_of_size = min(count_of_size, cs)\n",
    "    return count_of_size    "
   ]
  },
  {
   "cell_type": "code",
   "execution_count": 8,
   "metadata": {},
   "outputs": [],
   "source": [
    "def print_count_of_series_in_series(s1, s2):\n",
    "    \"\"\"\n",
    "    show why the count_of_size_in_series function works is correct\n",
    "    \"\"\"\n",
    "    \n",
    "    \n",
    "    # deze werkt dus voor twee series\n",
    "    # nu nog de logica\n",
    "    # ...\n",
    "    # even\n",
    "    # ...\n",
    "    s1 = pd.Series(s1).sort_values(ascending=True).reset_index(drop=True)\n",
    "    s2 = pd.Series(s2).sort_values(ascending=False).reset_index(drop=True)\n",
    "        \n",
    "    max_val = s1.max()\n",
    "    max_length = 0\n",
    "    print ('step 0: {0}'.format(tuple(s1.values)))\n",
    "    while np.floor(s1).sum() >= len(s2) and np.floor(s1).min() >= np.floor(s2.nlargest(len(s2)).iloc[-1])>=np.floor(s2).min() and np.floor(s1).max() >= np.floor(s2).max():\n",
    "        \n",
    "        for i in range(len(s2)-1, -1, -1):\n",
    "            #s1[s1.nlargest(i+1).nsmallest(1).index] = s1[s1.nlargest(i+1).nsmallest(1).index] - s2[i] #s2.nlargest(i+1).nsmallest(1).index\n",
    "            s1[s1.nlargest(i+1).nsmallest(1).index] = s1[s1.nlargest(i+1).nsmallest(1).index] - s2.nlargest(i+1).nsmallest(1).values.sum() #sum to get from array to int\n",
    "        #series[series.nlargest(size).index] = series[series.nlargest(size).index]-1\n",
    "        max_length +=1\n",
    "        print ('step {0}: {1}'.format(max_length, tuple(np.round(s1.values,2))))"
   ]
  },
  {
   "cell_type": "code",
   "execution_count": 9,
   "metadata": {},
   "outputs": [
    {
     "data": {
      "text/plain": [
       "5"
      ]
     },
     "execution_count": 9,
     "metadata": {},
     "output_type": "execute_result"
    }
   ],
   "source": [
    "count_of_series_in_series(s1=[10, 8, 3, 3, 6], s2=[1,2,3])"
   ]
  },
  {
   "cell_type": "code",
   "execution_count": 10,
   "metadata": {},
   "outputs": [
    {
     "name": "stdout",
     "output_type": "stream",
     "text": [
      "step 0: (3, 3, 6, 8, 10)\n",
      "step 1: (3, 3, 5, 6, 7)\n",
      "step 2: (3, 3, 4, 4, 4)\n",
      "step 3: (3, 3, 3, 2, 1)\n",
      "step 4: (2, 1, 0, 2, 1)\n"
     ]
    }
   ],
   "source": [
    "print_count_of_series_in_series(s1=[10, 8, 3, 3, 6], s2=[1,2,3])"
   ]
  },
  {
   "cell_type": "code",
   "execution_count": 54,
   "metadata": {},
   "outputs": [
    {
     "data": {
      "text/plain": [
       "31"
      ]
     },
     "execution_count": 54,
     "metadata": {},
     "output_type": "execute_result"
    }
   ],
   "source": [
    "count_of_series_in_series(s1=[100,18,18,17,26,25,23], s2=[1,1,1,1,1])"
   ]
  },
  {
   "cell_type": "code",
   "execution_count": 55,
   "metadata": {},
   "outputs": [
    {
     "data": {
      "text/plain": [
       "31"
      ]
     },
     "execution_count": 55,
     "metadata": {},
     "output_type": "execute_result"
    }
   ],
   "source": [
    "count_of_size_in_series(series=[100,18,18,17,26,25,23], size=5)"
   ]
  },
  {
   "cell_type": "code",
   "execution_count": 37,
   "metadata": {},
   "outputs": [
    {
     "data": {
      "text/plain": [
       "227"
      ]
     },
     "execution_count": 37,
     "metadata": {},
     "output_type": "execute_result"
    }
   ],
   "source": [
    "pd.Series([100,18,18,17,26,25,23]).sum()"
   ]
  },
  {
   "cell_type": "code",
   "execution_count": null,
   "metadata": {},
   "outputs": [],
   "source": [
    "def subseries_count(s1, s2):\n",
    "    s1 = pd.Series(s1)#.sort_values(ascending=False).reset_index(drop=True)\n",
    "    s2 = pd.Series(s2)#.sort_values(ascending=False).reset_index(drop=True)\n",
    "    \n",
    "    \n",
    "    result=s1.sum()*s2.sum()\n",
    "    \n",
    "    for i in range(len(s2), 0, -1):\n",
    "        result = min(result, math.floor(s1.nsmallest(len(s1) - len(s2) + i).sum() / s2.nsmallest(i).sum()))\n",
    "    return results  "
   ]
  },
  {
   "cell_type": "code",
   "execution_count": 14,
   "metadata": {},
   "outputs": [
    {
     "ename": "NameError",
     "evalue": "name 'series' is not defined",
     "output_type": "error",
     "traceback": [
      "\u001b[0;31m---------------------------------------------------------------------------\u001b[0m",
      "\u001b[0;31mNameError\u001b[0m                                 Traceback (most recent call last)",
      "\u001b[0;32m<ipython-input-14-2859777d6f2b>\u001b[0m in \u001b[0;36m<module>\u001b[0;34m\u001b[0m\n\u001b[0;32m----> 1\u001b[0;31m \u001b[0mseries\u001b[0m\u001b[0;34m\u001b[0m\u001b[0;34m\u001b[0m\u001b[0m\n\u001b[0m",
      "\u001b[0;31mNameError\u001b[0m: name 'series' is not defined"
     ]
    }
   ],
   "source": [
    "series"
   ]
  },
  {
   "cell_type": "code",
   "execution_count": 17,
   "metadata": {},
   "outputs": [
    {
     "data": {
      "text/plain": [
       "array([], dtype=float64)"
      ]
     },
     "execution_count": 17,
     "metadata": {},
     "output_type": "execute_result"
    }
   ],
   "source": [
    "np.empty(0)"
   ]
  },
  {
   "cell_type": "code",
   "execution_count": null,
   "metadata": {},
   "outputs": [],
   "source": []
  }
 ],
 "metadata": {
  "kernelspec": {
   "display_name": "Python 3",
   "language": "python",
   "name": "python3"
  },
  "language_info": {
   "codemirror_mode": {
    "name": "ipython",
    "version": 3
   },
   "file_extension": ".py",
   "mimetype": "text/x-python",
   "name": "python",
   "nbconvert_exporter": "python",
   "pygments_lexer": "ipython3",
   "version": "3.8.5"
  }
 },
 "nbformat": 4,
 "nbformat_minor": 2
}
