{
 "cells": [
  {
   "cell_type": "code",
   "execution_count": 1,
   "metadata": {},
   "outputs": [],
   "source": [
    "import pandas as pd\n",
    "import numpy as np\n",
    "import bluebelt as blue\n",
    "import scipy.stats as stats"
   ]
  },
  {
   "cell_type": "code",
   "execution_count": 2,
   "metadata": {},
   "outputs": [],
   "source": [
    "nrows = 100\n",
    "ncols = 6\n",
    "\n",
    "np.random.seed(27)\n",
    "series = pd.Series(np.random.weibull(7,nrows) * 100, index=pd.date_range(start='1-1-2020', periods=nrows), name='process A')\n",
    "frame = pd.DataFrame(np.random.randint(100,200,ncols*nrows).reshape(nrows, ncols), index=pd.date_range(start='1-1-2020', periods=nrows), columns=[f'process {col}' for col in range(1, ncols+1)])"
   ]
  },
  {
   "cell_type": "code",
   "execution_count": 3,
   "metadata": {},
   "outputs": [
    {
     "data": {
      "text/plain": [
       "StdWithin(nrows=100, ncols=1, how=amr, axis=0, std=15.8225)"
      ]
     },
     "execution_count": 3,
     "metadata": {},
     "output_type": "execute_result"
    }
   ],
   "source": [
    "series.blue.std.std_within(how='amr')"
   ]
  },
  {
   "cell_type": "code",
   "execution_count": 4,
   "metadata": {},
   "outputs": [
    {
     "data": {
      "text/plain": [
       "StdWithin(nrows=100, ncols=1, how=mmr, axis=0, std=12.0421)"
      ]
     },
     "execution_count": 4,
     "metadata": {},
     "output_type": "execute_result"
    }
   ],
   "source": [
    "series.blue.std.std_within(how='mmr')"
   ]
  },
  {
   "cell_type": "code",
   "execution_count": 5,
   "metadata": {},
   "outputs": [
    {
     "data": {
      "text/plain": [
       "StdWithin(nrows=100, ncols=1, how=mssd, axis=0, std=15.8964)"
      ]
     },
     "execution_count": 5,
     "metadata": {},
     "output_type": "execute_result"
    }
   ],
   "source": [
    "series.blue.std.std_within(how='mssd')"
   ]
  },
  {
   "cell_type": "code",
   "execution_count": 6,
   "metadata": {},
   "outputs": [
    {
     "data": {
      "text/plain": [
       "StdWithin(nrows=100, ncols=6, how=pooled std, axis=0, std=28.4545)"
      ]
     },
     "execution_count": 6,
     "metadata": {},
     "output_type": "execute_result"
    }
   ],
   "source": [
    "frame.blue.std.std_within(how='pooled_std')"
   ]
  },
  {
   "cell_type": "code",
   "execution_count": 7,
   "metadata": {},
   "outputs": [
    {
     "data": {
      "text/plain": [
       "StdWithin(nrows=100, ncols=6, how=r_bar, axis=0, std=27.3323)"
      ]
     },
     "execution_count": 7,
     "metadata": {},
     "output_type": "execute_result"
    }
   ],
   "source": [
    "frame.blue.std.std_within(how='r_bar')"
   ]
  },
  {
   "cell_type": "code",
   "execution_count": 8,
   "metadata": {},
   "outputs": [
    {
     "data": {
      "text/plain": [
       "StdWithin(nrows=100, ncols=6, how=s_bar, axis=0, std=26.2584)"
      ]
     },
     "execution_count": 8,
     "metadata": {},
     "output_type": "execute_result"
    }
   ],
   "source": [
    "frame.blue.std.std_within(how='s_bar')"
   ]
  },
  {
   "cell_type": "code",
   "execution_count": 9,
   "metadata": {},
   "outputs": [],
   "source": [
    "frame.iloc[3,2] = np.nan"
   ]
  },
  {
   "cell_type": "code",
   "execution_count": 10,
   "metadata": {},
   "outputs": [
    {
     "data": {
      "text/plain": [
       "StdWithin(nrows=100, ncols=6, how=pooled std, axis=0, std=31.6882)"
      ]
     },
     "execution_count": 10,
     "metadata": {},
     "output_type": "execute_result"
    }
   ],
   "source": [
    "frame.blue.std.std_within(how='pooled_std')"
   ]
  },
  {
   "cell_type": "code",
   "execution_count": 11,
   "metadata": {},
   "outputs": [
    {
     "data": {
      "text/plain": [
       "StdWithin(nrows=100, ncols=6, how=r_bar, axis=0, std=27.3273)"
      ]
     },
     "execution_count": 11,
     "metadata": {},
     "output_type": "execute_result"
    }
   ],
   "source": [
    "frame.blue.std.std_within(how='r_bar')"
   ]
  },
  {
   "cell_type": "code",
   "execution_count": 12,
   "metadata": {},
   "outputs": [
    {
     "data": {
      "text/plain": [
       "StdWithin(nrows=100, ncols=6, how=s_bar, axis=0, std=32.5584)"
      ]
     },
     "execution_count": 12,
     "metadata": {},
     "output_type": "execute_result"
    }
   ],
   "source": [
    "frame.blue.std.std_within(how='s_bar')"
   ]
  },
  {
   "cell_type": "code",
   "execution_count": 13,
   "metadata": {},
   "outputs": [
    {
     "data": {
      "text/plain": [
       "\"\\n            Calculate the standard deviation within subgroups.\\n                arguments\\n                frame: pandas.DataFrame or pandas.Series\\n                columns: list\\n                    a list of column names\\n                    if not provided all columns will be treated as subgroups\\n                    if frame is a Pandas Series only the first column will be used\\n                    default value: None\\n                how: str\\n                    the method of estimating std_within\\n                    options when subgroup size == 1 (default when frame is a Pandas Series):\\n                    - 'amr' or 'average_moving_range'\\n                        optional argument: observations=2\\n                    - 'mmr' or 'median_moving_range'\\n                        optional argument: observations=2\\n                    - 'mssd' or 'sqrt_of_mssd'\\n                    default value: 'amr'\\n\\n                    options when subgroup size > 1:\\n                    - 'pooled_std'\\n                    - 'r_bar'\\n                    - 's_bar'\\n                    default value: 'pooled_std'\\n                    \\n                observations: int\\n                    used for average moving range and median moving range estimation\\n                    default value: 2\\n            \""
      ]
     },
     "execution_count": 13,
     "metadata": {},
     "output_type": "execute_result"
    }
   ],
   "source": [
    "frame.blue.std.std_within.__doc__"
   ]
  },
  {
   "cell_type": "code",
   "execution_count": null,
   "metadata": {},
   "outputs": [],
   "source": []
  }
 ],
 "metadata": {
  "kernelspec": {
   "display_name": "Python 3",
   "language": "python",
   "name": "python3"
  },
  "language_info": {
   "codemirror_mode": {
    "name": "ipython",
    "version": 3
   },
   "file_extension": ".py",
   "mimetype": "text/x-python",
   "name": "python",
   "nbconvert_exporter": "python",
   "pygments_lexer": "ipython3",
   "version": "3.8.5"
  }
 },
 "nbformat": 4,
 "nbformat_minor": 4
}
