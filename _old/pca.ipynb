{
 "cells": [
  {
   "cell_type": "code",
   "execution_count": 1,
   "metadata": {},
   "outputs": [],
   "source": [
    "import pandas as pd\n",
    "import numpy as np\n",
    "import bluebelt as blue\n",
    "\n",
    "import datetime\n",
    "import math\n",
    "import matplotlib.pyplot as plt\n",
    "import scipy.stats as stats"
   ]
  },
  {
   "cell_type": "code",
   "execution_count": 11,
   "metadata": {},
   "outputs": [],
   "source": [
    "n = 500\n",
    "ncols = 2\n",
    "nrows = 500\n",
    "np.random.seed(27)\n",
    "series = pd.Series(np.random.weibull(7,n), index=pd.date_range(start='1-1-2020', periods=n), name='main process')\n",
    "frame = pd.DataFrame(np.random.normal(loc=100, scale=20, size=ncols*nrows).reshape(nrows, ncols), index=pd.date_range(start='2021-1-4', periods=nrows), columns=[f'process {col}' for col in range(1, ncols+1)])\n"
   ]
  },
  {
   "cell_type": "code",
   "execution_count": 12,
   "metadata": {},
   "outputs": [],
   "source": [
    "s = series.blue.index.groupby(level=['year', 'week']).sum()"
   ]
  },
  {
   "cell_type": "code",
   "execution_count": 14,
   "metadata": {},
   "outputs": [
    {
     "ename": "TypeError",
     "evalue": "scatter() missing 2 required positional arguments: 'index' and 'values'",
     "output_type": "error",
     "traceback": [
      "\u001b[0;31m---------------------------------------------------------------------------\u001b[0m",
      "\u001b[0;31mTypeError\u001b[0m                                 Traceback (most recent call last)",
      "\u001b[0;32m<ipython-input-14-c8d64182fef4>\u001b[0m in \u001b[0;36m<module>\u001b[0;34m\u001b[0m\n\u001b[0;32m----> 1\u001b[0;31m \u001b[0mframe\u001b[0m\u001b[0;34m.\u001b[0m\u001b[0mblue\u001b[0m\u001b[0;34m.\u001b[0m\u001b[0mgraph\u001b[0m\u001b[0;34m.\u001b[0m\u001b[0mscatter\u001b[0m\u001b[0;34m(\u001b[0m\u001b[0;34m)\u001b[0m\u001b[0;34m\u001b[0m\u001b[0;34m\u001b[0m\u001b[0m\n\u001b[0m",
      "\u001b[0;32m~/Projects/bluebelt_package/bluebelt/core/dataframe.py\u001b[0m in \u001b[0;36mscatter\u001b[0;34m(self, **kwargs)\u001b[0m\n\u001b[1;32m    252\u001b[0m \u001b[0;34m\u001b[0m\u001b[0m\n\u001b[1;32m    253\u001b[0m         \u001b[0;32mdef\u001b[0m \u001b[0mscatter\u001b[0m\u001b[0;34m(\u001b[0m\u001b[0mself\u001b[0m\u001b[0;34m,\u001b[0m \u001b[0;34m**\u001b[0m\u001b[0mkwargs\u001b[0m\u001b[0;34m)\u001b[0m\u001b[0;34m:\u001b[0m\u001b[0;34m\u001b[0m\u001b[0;34m\u001b[0m\u001b[0m\n\u001b[0;32m--> 254\u001b[0;31m             \u001b[0;32mreturn\u001b[0m \u001b[0mbluebelt\u001b[0m\u001b[0;34m.\u001b[0m\u001b[0mgraph\u001b[0m\u001b[0;34m.\u001b[0m\u001b[0mgraph\u001b[0m\u001b[0;34m.\u001b[0m\u001b[0mscatter\u001b[0m\u001b[0;34m(\u001b[0m\u001b[0mself\u001b[0m\u001b[0;34m.\u001b[0m\u001b[0m_obj\u001b[0m\u001b[0;34m,\u001b[0m \u001b[0;34m**\u001b[0m\u001b[0mkwargs\u001b[0m\u001b[0;34m)\u001b[0m\u001b[0;34m\u001b[0m\u001b[0;34m\u001b[0m\u001b[0m\n\u001b[0m\u001b[1;32m    255\u001b[0m \u001b[0;34m\u001b[0m\u001b[0m\n\u001b[1;32m    256\u001b[0m         \u001b[0;32mdef\u001b[0m \u001b[0mboxplot\u001b[0m\u001b[0;34m(\u001b[0m\u001b[0mself\u001b[0m\u001b[0;34m,\u001b[0m \u001b[0;34m**\u001b[0m\u001b[0mkwargs\u001b[0m\u001b[0;34m)\u001b[0m\u001b[0;34m:\u001b[0m\u001b[0;34m\u001b[0m\u001b[0;34m\u001b[0m\u001b[0m\n",
      "\u001b[0;32m~/Projects/bluebelt_package/bluebelt/graph/graph.py\u001b[0m in \u001b[0;36mscatter\u001b[0;34m(_obj, **kwargs)\u001b[0m\n\u001b[1;32m    134\u001b[0m     \u001b[0mfig\u001b[0m\u001b[0;34m,\u001b[0m \u001b[0maxes\u001b[0m \u001b[0;34m=\u001b[0m \u001b[0mplt\u001b[0m\u001b[0;34m.\u001b[0m\u001b[0msubplots\u001b[0m\u001b[0;34m(\u001b[0m\u001b[0mnrows\u001b[0m\u001b[0;34m=\u001b[0m\u001b[0;36m1\u001b[0m\u001b[0;34m,\u001b[0m \u001b[0mncols\u001b[0m\u001b[0;34m=\u001b[0m\u001b[0;36m1\u001b[0m\u001b[0;34m,\u001b[0m \u001b[0;34m**\u001b[0m\u001b[0mkwargs\u001b[0m\u001b[0;34m)\u001b[0m\u001b[0;34m\u001b[0m\u001b[0;34m\u001b[0m\u001b[0m\n\u001b[1;32m    135\u001b[0m \u001b[0;34m\u001b[0m\u001b[0m\n\u001b[0;32m--> 136\u001b[0;31m     \u001b[0mbluebelt\u001b[0m\u001b[0;34m.\u001b[0m\u001b[0mgraph\u001b[0m\u001b[0;34m.\u001b[0m\u001b[0mdefaults\u001b[0m\u001b[0;34m.\u001b[0m\u001b[0mscatter\u001b[0m\u001b[0;34m(\u001b[0m\u001b[0mseries\u001b[0m\u001b[0;34m=\u001b[0m\u001b[0mframe\u001b[0m\u001b[0;34m,\u001b[0m \u001b[0max\u001b[0m\u001b[0;34m=\u001b[0m\u001b[0maxes\u001b[0m\u001b[0;34m,\u001b[0m \u001b[0mstyle\u001b[0m\u001b[0;34m=\u001b[0m\u001b[0mstyle\u001b[0m\u001b[0;34m)\u001b[0m\u001b[0;34m\u001b[0m\u001b[0;34m\u001b[0m\u001b[0m\n\u001b[0m\u001b[1;32m    137\u001b[0m \u001b[0;34m\u001b[0m\u001b[0m\n\u001b[1;32m    138\u001b[0m     \u001b[0;31m# format things\u001b[0m\u001b[0;34m\u001b[0m\u001b[0;34m\u001b[0m\u001b[0;34m\u001b[0m\u001b[0m\n",
      "\u001b[0;31mTypeError\u001b[0m: scatter() missing 2 required positional arguments: 'index' and 'values'"
     ]
    },
    {
     "data": {
      "image/png": "[encoded data removed]",
      "text/plain": [
       "<Figure size 720x504 with 1 Axes>"
      ]
     },
     "metadata": {},
     "output_type": "display_data"
    }
   ],
   "source": [
    "frame.blue.graph.scatter()"
   ]
  },
  {
   "cell_type": "code",
   "execution_count": null,
   "metadata": {},
   "outputs": [],
   "source": []
  },
  {
   "cell_type": "code",
   "execution_count": null,
   "metadata": {},
   "outputs": [],
   "source": []
  },
  {
   "cell_type": "code",
   "execution_count": 15,
   "metadata": {},
   "outputs": [
    {
     "name": "stdout",
     "output_type": "stream",
     "text": [
      "Process Data                       Potential Capability               Overall Capability                 \n",
      "target         1                   Cp             0.62                Pp             0.62                \n",
      "LSL            0.70000             Cpl            0.49                Ppl            0.49                \n",
      "USL            1.30000             Cpu            0.75                Ppu            0.75                \n",
      "mean           0.93659             Cpk            0.49                Ppk            0.49                \n",
      "n              500                 CCpk           0.62                Cpm            0.58                \n",
      "std within     0.16056             \n",
      "std overall    0.16048             \n",
      "\n",
      "Observed Performance               Expected Performance (Within)      Expected Performance (Overall)     \n",
      "PPM < LSL      82000               PPM < LSL      70295               PPM < LSL      70196               \n",
      "PPM > USL      0                   PPM > USL      11805               PPM > USL      11770               \n",
      "PPM            82000 (8.20%)       PPM            82100 (8.21%)       PPM            81966 (8.20%)       \n"
     ]
    }
   ],
   "source": [
    "series.blue.performance.capability(target=1, lsl=0.7, usl=1.3).result"
   ]
  },
  {
   "cell_type": "code",
   "execution_count": 17,
   "metadata": {},
   "outputs": [
    {
     "data": {
      "text/plain": [
       "2020-01-01    0.919243\n",
       "2020-01-02    1.077400\n",
       "2020-01-03    1.041528\n",
       "2020-01-04    1.106049\n",
       "2020-01-05    0.901393\n",
       "                ...   \n",
       "2021-05-10    1.100225\n",
       "2021-05-11    0.921433\n",
       "2021-05-12    1.005859\n",
       "2021-05-13    0.612502\n",
       "2021-05-14    0.953822\n",
       "Freq: D, Name: main process, Length: 500, dtype: float64"
      ]
     },
     "execution_count": 17,
     "metadata": {},
     "output_type": "execute_result"
    }
   ],
   "source": [
    "series"
   ]
  },
  {
   "cell_type": "code",
   "execution_count": null,
   "metadata": {},
   "outputs": [],
   "source": [
    "subgroups = blue.analysis.subgroups.get_subgroups(series, subgroup_size=1)"
   ]
  },
  {
   "cell_type": "code",
   "execution_count": null,
   "metadata": {},
   "outputs": [],
   "source": [
    "series"
   ]
  },
  {
   "cell_type": "code",
   "execution_count": null,
   "metadata": {},
   "outputs": [],
   "source": [
    "blue.statistics.std.StdWithin(subgroups).std"
   ]
  },
  {
   "cell_type": "code",
   "execution_count": null,
   "metadata": {},
   "outputs": [],
   "source": []
  },
  {
   "cell_type": "code",
   "execution_count": null,
   "metadata": {},
   "outputs": [],
   "source": [
    "pca = series.blue.ppa.process_capability(lb=0.7, target=1, usl=1.175)\n",
    "#pca.plot(figsize=(12,5))"
   ]
  },
  {
   "cell_type": "code",
   "execution_count": null,
   "metadata": {},
   "outputs": [],
   "source": [
    "pca.plot(figsize=(12,5))"
   ]
  },
  {
   "cell_type": "code",
   "execution_count": null,
   "metadata": {},
   "outputs": [],
   "source": [
    "pca.result"
   ]
  },
  {
   "cell_type": "code",
   "execution_count": null,
   "metadata": {},
   "outputs": [],
   "source": [
    "pca.md()"
   ]
  },
  {
   "cell_type": "code",
   "execution_count": null,
   "metadata": {},
   "outputs": [],
   "source": [
    "import copy"
   ]
  },
  {
   "cell_type": "code",
   "execution_count": null,
   "metadata": {},
   "outputs": [],
   "source": [
    "style = blue.styles.paper.process_capability.histogram_fill_in_range\n",
    "style2 = blue.styles.paper.process_capability.histogram_fill_out_of_range"
   ]
  },
  {
   "cell_type": "code",
   "execution_count": null,
   "metadata": {},
   "outputs": [],
   "source": [
    "fig, ax = plt.subplots()\n",
    "\n",
    "n, bins, patches = ax.hist(series, hatch='//', fill=False)\n",
    "def _set_patch_style(patch, style):\n",
    "    for key in ['facecolor', 'edgecolor', 'linewidth', 'hatch', 'fill']:\n",
    "        if key in style:\n",
    "            eval(f'patch.set_{key}(style.get(key))')\n",
    "        \n",
    "lsl = 0.78\n",
    "usl = 1.1\n",
    "\n",
    "for patch in patches:\n",
    "    \n",
    "    \n",
    "    # catch patches \n",
    "    if patch.get_x()+patch.get_width() <= lsl or patch.get_x() >= usl:\n",
    "        patch.set_fill(False)\n",
    "        patch.set_hatch('')\n",
    "        patch_copy = copy.copy(patch)\n",
    "        _set_patch_style(patch_copy, style2)\n",
    "        ax.add_patch(patch_copy)\n",
    "    \n",
    "    elif patch.get_x() < lsl and patch.get_x()+patch.get_width() > lsl:\n",
    "        # split patch\n",
    "        patch.set_fill(False)\n",
    "        patch.set_hatch('')\n",
    "        # first half\n",
    "        patch_width_1 = lsl - patch.get_x()#+patch.get_width())\n",
    "        patch_copy = copy.copy(patch)\n",
    "        _set_patch_style(patch_copy, style2)\n",
    "        patch_copy.set_width(patch_width_1)\n",
    "        ax.add_patch(patch_copy)\n",
    "        \n",
    "        # second half\n",
    "        patch_width_2 = (patch.get_x()+patch.get_width()) - lsl\n",
    "        patch_copy = copy.copy(patch)\n",
    "        _set_patch_style(patch_copy, style)\n",
    "        patch_copy.set_width(patch_width_2)\n",
    "        patch_copy.set_x(patch.get_x()+patch_width_1)\n",
    "        ax.add_patch(patch_copy)\n",
    "        \n",
    "    elif patch.get_x() > lsl and patch.get_x() + patch.get_width() <= usl:\n",
    "        pass\n",
    "    \n",
    "    elif patch.get_x() > lsl and patch.get_x() <= usl and patch.get_x() + patch.get_width() > usl:\n",
    "        # split patch\n",
    "        patch.set_fill(False)\n",
    "        patch.set_hatch('')\n",
    "        # first half\n",
    "        patch_width_1 = usl - patch.get_x()#+patch.get_width())\n",
    "        patch_copy = copy.copy(patch)\n",
    "        _set_patch_style(patch_copy, style)\n",
    "        patch_copy.set_width(patch_width_1)\n",
    "        ax.add_patch(patch_copy)\n",
    "        \n",
    "        # second half\n",
    "        patch_width_2 = (patch.get_x()+patch.get_width()) - usl\n",
    "        patch_copy = copy.copy(patch)\n",
    "        _set_patch_style(patch_copy, style2)\n",
    "        patch_copy.set_width(patch_width_2)\n",
    "        patch_copy.set_x(patch.get_x()+patch_width_1)\n",
    "        ax.add_patch(patch_copy)"
   ]
  },
  {
   "cell_type": "code",
   "execution_count": 5,
   "metadata": {},
   "outputs": [
    {
     "data": {
      "text/plain": [
       "{'density': True,\n",
       " 'alpha': 1,\n",
       " 'edgecolor': None,\n",
       " 'facecolor': (0.1450980392156863, 0.43529411764705883, 0.7019607843137254),\n",
       " 'fill': False,\n",
       " 'hatch': '//',\n",
       " 'linestyle': 'solid',\n",
       " 'linewidth': 1}"
      ]
     },
     "execution_count": 5,
     "metadata": {},
     "output_type": "execute_result"
    }
   ],
   "source": [
    "style = blue.styles.paper.process_capability.histogram\n",
    "style"
   ]
  },
  {
   "cell_type": "code",
   "execution_count": 6,
   "metadata": {},
   "outputs": [
    {
     "ename": "NameError",
     "evalue": "name 'k' is not defined",
     "output_type": "error",
     "traceback": [
      "\u001b[0;31m---------------------------------------------------------------------------\u001b[0m",
      "\u001b[0;31mNameError\u001b[0m                                 Traceback (most recent call last)",
      "\u001b[0;32m<ipython-input-6-141b3ea3f03f>\u001b[0m in \u001b[0;36m<module>\u001b[0;34m\u001b[0m\n\u001b[0;32m----> 1\u001b[0;31m \u001b[0mk\u001b[0m\u001b[0;34m\u001b[0m\u001b[0;34m\u001b[0m\u001b[0m\n\u001b[0m",
      "\u001b[0;31mNameError\u001b[0m: name 'k' is not defined"
     ]
    }
   ],
   "source": [
    "k"
   ]
  },
  {
   "cell_type": "code",
   "execution_count": 7,
   "metadata": {},
   "outputs": [],
   "source": [
    "key = 'edgecolor'\n",
    "if key in style and style.get(key) is not None:\n",
    "    print('a')"
   ]
  },
  {
   "cell_type": "code",
   "execution_count": 8,
   "metadata": {},
   "outputs": [],
   "source": [
    "x = None\n",
    "if x is not None and x + 1 > 10:\n",
    "    print('a')"
   ]
  },
  {
   "cell_type": "code",
   "execution_count": 9,
   "metadata": {},
   "outputs": [
    {
     "data": {
      "text/plain": [
       "1"
      ]
     },
     "execution_count": 9,
     "metadata": {},
     "output_type": "execute_result"
    }
   ],
   "source": [
    "x = None\n",
    "y = None\n",
    "xy = x or y\n",
    "z = 1\n",
    "xy or z"
   ]
  },
  {
   "cell_type": "code",
   "execution_count": 10,
   "metadata": {},
   "outputs": [
    {
     "data": {
      "text/plain": [
       "8"
      ]
     },
     "execution_count": 10,
     "metadata": {},
     "output_type": "execute_result"
    }
   ],
   "source": [
    "2**3"
   ]
  },
  {
   "cell_type": "code",
   "execution_count": 11,
   "metadata": {},
   "outputs": [
    {
     "data": {
      "text/plain": [
       "8.0"
      ]
     },
     "execution_count": 11,
     "metadata": {},
     "output_type": "execute_result"
    }
   ],
   "source": [
    "math.pow(2,3)"
   ]
  },
  {
   "cell_type": "code",
   "execution_count": 12,
   "metadata": {},
   "outputs": [
    {
     "data": {
      "text/plain": [
       "3.0"
      ]
     },
     "execution_count": 12,
     "metadata": {},
     "output_type": "execute_result"
    }
   ],
   "source": [
    "math.sqrt(9)"
   ]
  },
  {
   "cell_type": "code",
   "execution_count": null,
   "metadata": {},
   "outputs": [],
   "source": []
  },
  {
   "cell_type": "code",
   "execution_count": null,
   "metadata": {},
   "outputs": [],
   "source": []
  },
  {
   "cell_type": "code",
   "execution_count": null,
   "metadata": {},
   "outputs": [],
   "source": []
  }
 ],
 "metadata": {
  "kernelspec": {
   "display_name": "Python 3",
   "language": "python",
   "name": "python3"
  },
  "language_info": {
   "codemirror_mode": {
    "name": "ipython",
    "version": 3
   },
   "file_extension": ".py",
   "mimetype": "text/x-python",
   "name": "python",
   "nbconvert_exporter": "python",
   "pygments_lexer": "ipython3",
   "version": "3.8.5"
  }
 },
 "nbformat": 4,
 "nbformat_minor": 4
}
