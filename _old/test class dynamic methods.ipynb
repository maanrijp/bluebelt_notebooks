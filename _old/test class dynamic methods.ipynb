{
 "cells": [
  {
   "cell_type": "code",
   "execution_count": 1,
   "metadata": {},
   "outputs": [],
   "source": [
    "import pandas as pd\n",
    "import numpy as np\n",
    "import bluebelt as blue\n",
    "import matplotlib.pyplot as plt\n",
    "\n",
    "import types"
   ]
  },
  {
   "cell_type": "code",
   "execution_count": 2,
   "metadata": {},
   "outputs": [],
   "source": [
    "\n",
    "nrows = 100\n",
    "ncols = 6\n",
    "\n",
    "np.random.seed(27)\n",
    "series = pd.Series(np.random.weibull(7,nrows) * 100, index=pd.date_range(start='1-1-2020', periods=nrows), name='process A')\n",
    "frame = pd.DataFrame(np.random.randint(100,200,ncols*nrows).reshape(nrows, ncols), index=pd.date_range(start='1-1-2020', periods=nrows), columns=[f'process {col}' for col in range(1, ncols+1)])"
   ]
  },
  {
   "cell_type": "code",
   "execution_count": 3,
   "metadata": {},
   "outputs": [],
   "source": [
    "def _strf(string):\n",
    "    strf_dict = {'weekday_name': '%a', # abbreviated weekday name\n",
    "                'week_day': '%u', # weekday as a number (1 to 7), Monday=1. Warning: In Sun Solaris Sunday=1\n",
    "                'weekday': '%u', # weekday as a number (1 to 7), Monday=1. Warning: In Sun Solaris Sunday=1\n",
    "                'iso_week': '%V', # The ISO 8601 week number of the current year (01 to 53), where week 1 is the first week that has at least 4 days in the current year, and with Monday as the first day of the week\n",
    "                'isoweek': '%V', # The ISO 8601 week number of the current year (01 to 53), where week 1 is the first week that has at least 4 days in the current year, and with Monday as the first day of the week\n",
    "                'monthname': '%b', # abbreviated month name\n",
    "                'month_name': '%b', # abbreviated month name\n",
    "                'monthday': '%d', # day of the month (01 to 31)\n",
    "                'month_day': '%d', # day of the month (01 to 31)\n",
    "                'isoyear': '%G', # 4-digit year corresponding to the ISO week number (see %V).\n",
    "                'iso_year': '%G', # 4-digit year corresponding to the ISO week number (see %V).\n",
    "                'yearday': '%j', # day of the year (001 to 366)\n",
    "                'year_day': '%j', # day of the year (001 to 366)\n",
    "                'year': '%Y', # year including the century\n",
    "                'month': '%m', # month (01 to 12)\n",
    "                'week': '%W', # week number of the current year, starting with the first Monday as the first day of the first week\n",
    "                'day': '%d', # day of the month (01 to 31)\n",
    "                'hour': '%H', # hour, using a 24-hour clock (00 to 23)\n",
    "                'minute': '%M', # minute\n",
    "                'second': '%S', # second\n",
    "                'time': '%T', # current time, equal to %H:%M:%S\n",
    "                }\n",
    "    for key, value in strf_dict.items():\n",
    "        string = string.replace(key, value)\n",
    "    \n",
    "    return string"
   ]
  },
  {
   "cell_type": "code",
   "execution_count": 52,
   "metadata": {},
   "outputs": [],
   "source": [
    "class GroupByDatetimeIndex():\n",
    "    \"\"\"\n",
    "    Group a series by datetime index and apply a specific function.\n",
    "        arguments\n",
    "        series: pandas.Series\n",
    "        index: string\n",
    "    \"\"\"\n",
    "    def __init__(self, series, group=\"iso_year-iso_week\", func=\"count_subsize\", **kwargs):\n",
    "\n",
    "        self.series = series\n",
    "        self.group = group\n",
    "        self.func = func\n",
    "        self.index = 0\n",
    "        self.nrows = self.series.size\n",
    "        self.calculate(**kwargs)\n",
    "\n",
    "    def calculate(self, **kwargs):\n",
    "        self.result = self.series.groupby(self.series.index.strftime(_strf(self.group)))\n",
    "\n",
    "    def __call__(self):\n",
    "        return self.result\n",
    "    \n",
    "    def __str__(self):\n",
    "        return \"\"\n",
    "    \n",
    "    def mean(self):\n",
    "        #self.result = self.result.mean()\n",
    "        return self.result.mean()\n",
    "    \n",
    "    def value_range(self):\n",
    "        return self.result.apply(lambda x: x.max() - x.min())\n",
    "    \n",
    "    def __repr__(self):\n",
    "        #return (f'{self.__class__.__name__}(series=\\'{self.series.name}\\', nrows={self.nrows})')\n",
    "        return self.result.__repr__()\n",
    "\n",
    "def plot(self, **kwargs):\n",
    "\n",
    "\n",
    "    fig, ax = plt.subplots(**kwargs)\n",
    "\n",
    "    # observations\n",
    "    ax.plot(self.values, self.index)\n",
    "\n",
    "    # labels\n",
    "    ax.set_title(f'grouping function: {self.func} {self.kwarg_str}')\n",
    "    #ax.set_xlabel(self.series.index.name)\n",
    "    ax.set_ylabel('value')\n",
    "\n",
    "    fig.suptitle(f'{self.series.name} grouped by {self.index}', x=fig.subplotpars.left)\n",
    "    # plt.gcf().subplots_adjust(right=0.8)\n",
    "\n",
    "    plt.close()\n",
    "    return fig"
   ]
  },
  {
   "cell_type": "code",
   "execution_count": 58,
   "metadata": {},
   "outputs": [],
   "source": [
    "g = GroupByDatetimeIndex(series, index='iso_year-iso_week')"
   ]
  },
  {
   "cell_type": "code",
   "execution_count": 59,
   "metadata": {},
   "outputs": [],
   "source": [
    "def test(self):\n",
    "    return self"
   ]
  },
  {
   "cell_type": "code",
   "execution_count": 60,
   "metadata": {},
   "outputs": [
    {
     "data": {
      "text/plain": [
       "__main__.GroupByDatetimeIndex"
      ]
     },
     "execution_count": 60,
     "metadata": {},
     "output_type": "execute_result"
    }
   ],
   "source": [
    "type(g)"
   ]
  },
  {
   "cell_type": "code",
   "execution_count": 68,
   "metadata": {},
   "outputs": [],
   "source": [
    "g.test = test.__get__(GroupByDatetimeIndex, g)\n",
    "g.plot = plot.__get__(GroupByDatetimeIndex, g)\n"
   ]
  },
  {
   "cell_type": "code",
   "execution_count": 65,
   "metadata": {},
   "outputs": [],
   "source": [
    "g=g.mean()"
   ]
  },
  {
   "cell_type": "code",
   "execution_count": 66,
   "metadata": {},
   "outputs": [
    {
     "data": {
      "text/plain": [
       "pandas.core.series.Series"
      ]
     },
     "execution_count": 66,
     "metadata": {},
     "output_type": "execute_result"
    }
   ],
   "source": [
    "type(g)"
   ]
  },
  {
   "cell_type": "code",
   "execution_count": 69,
   "metadata": {},
   "outputs": [
    {
     "ename": "AttributeError",
     "evalue": "type object 'GroupByDatetimeIndex' has no attribute 'values'",
     "output_type": "error",
     "traceback": [
      "\u001b[0;31m---------------------------------------------------------------------------\u001b[0m",
      "\u001b[0;31mAttributeError\u001b[0m                            Traceback (most recent call last)",
      "\u001b[0;32m<ipython-input-69-83fe267fd215>\u001b[0m in \u001b[0;36m<module>\u001b[0;34m\u001b[0m\n\u001b[0;32m----> 1\u001b[0;31m \u001b[0mg\u001b[0m\u001b[0;34m.\u001b[0m\u001b[0mplot\u001b[0m\u001b[0;34m(\u001b[0m\u001b[0;34m)\u001b[0m\u001b[0;34m\u001b[0m\u001b[0;34m\u001b[0m\u001b[0m\n\u001b[0m",
      "\u001b[0;32m<ipython-input-52-de0433c13299>\u001b[0m in \u001b[0;36mplot\u001b[0;34m(self, **kwargs)\u001b[0m\n\u001b[1;32m     41\u001b[0m \u001b[0;34m\u001b[0m\u001b[0m\n\u001b[1;32m     42\u001b[0m     \u001b[0;31m# observations\u001b[0m\u001b[0;34m\u001b[0m\u001b[0;34m\u001b[0m\u001b[0;34m\u001b[0m\u001b[0m\n\u001b[0;32m---> 43\u001b[0;31m     \u001b[0max\u001b[0m\u001b[0;34m.\u001b[0m\u001b[0mplot\u001b[0m\u001b[0;34m(\u001b[0m\u001b[0mself\u001b[0m\u001b[0;34m.\u001b[0m\u001b[0mvalues\u001b[0m\u001b[0;34m,\u001b[0m \u001b[0mself\u001b[0m\u001b[0;34m.\u001b[0m\u001b[0mindex\u001b[0m\u001b[0;34m)\u001b[0m\u001b[0;34m\u001b[0m\u001b[0;34m\u001b[0m\u001b[0m\n\u001b[0m\u001b[1;32m     44\u001b[0m \u001b[0;34m\u001b[0m\u001b[0m\n\u001b[1;32m     45\u001b[0m     \u001b[0;31m# labels\u001b[0m\u001b[0;34m\u001b[0m\u001b[0;34m\u001b[0m\u001b[0;34m\u001b[0m\u001b[0m\n",
      "\u001b[0;31mAttributeError\u001b[0m: type object 'GroupByDatetimeIndex' has no attribute 'values'"
     ]
    },
    {
     "data": {
      "image/png": "[encoded data removed]",
      "text/plain": [
       "<Figure size 720x504 with 1 Axes>"
      ]
     },
     "metadata": {},
     "output_type": "display_data"
    }
   ],
   "source": [
    "g.plot()"
   ]
  },
  {
   "cell_type": "code",
   "execution_count": null,
   "metadata": {},
   "outputs": [],
   "source": []
  }
 ],
 "metadata": {
  "kernelspec": {
   "display_name": "Python 3",
   "language": "python",
   "name": "python3"
  },
  "language_info": {
   "codemirror_mode": {
    "name": "ipython",
    "version": 3
   },
   "file_extension": ".py",
   "mimetype": "text/x-python",
   "name": "python",
   "nbconvert_exporter": "python",
   "pygments_lexer": "ipython3",
   "version": "3.8.5"
  }
 },
 "nbformat": 4,
 "nbformat_minor": 4
}
