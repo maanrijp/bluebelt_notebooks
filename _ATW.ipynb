{
 "cells": [
  {
   "cell_type": "markdown",
   "id": "995d6e22",
   "metadata": {},
   "source": [
    "# ATW"
   ]
  },
  {
   "cell_type": "code",
   "execution_count": 1,
   "id": "9f7ca00d",
   "metadata": {},
   "outputs": [],
   "source": [
    "import pandas as pd\n",
    "import numpy as np"
   ]
  },
  {
   "cell_type": "code",
   "execution_count": null,
   "id": "6e325eba",
   "metadata": {},
   "outputs": [],
   "source": [
    "def check_atw(timeline):\n",
    "    \n",
    "    ### arbeidstijd\n",
    "    \n",
    "    # per dienst maximaal 12 uren\n",
    "    \n",
    "    \n",
    "    # per week maximaal 60 uren\n",
    "    \n",
    "    \n",
    "        # per week, per 4 weken gemiddeld 55 uren\n",
    "        # collectieve regeling\n",
    "    \n",
    "    \n",
    "    # per week, per 16 weken gemiddeld 48 uren\n",
    "    \n",
    "    \n",
    "    ### rusttijden\n",
    "    # dagelijkse rust 11 aaneengesloten uren\n",
    "    # 1 keer per week 8 uren is aanvaardbaar\n",
    "    \n",
    "    \n",
    "    \n",
    "    # wekelijkse rust 36 uren aaneengesloten of\n",
    "    # 72 uren per 14 dagen te splitsen in stukken van minimaal 32 uren\n",
    "    \n",
    "    \n",
    "    \n",
    "    ### pauzes\n",
    "    \n",
    "    # 30 minuten bij > 5,5 uren arbeid\n",
    "    # of 2 x 15 minuten\n",
    "    \n",
    "    # 45 minuten bij > 10 uren arbeid\n",
    "    # of 3 x 15 minuten\n",
    "    \n",
    "        # 15 minuten bij > 5,5 uren arbeid\n",
    "        # indien collectieve regeling\n",
    "        \n",
    "        \n",
    "    ### zondagen\n",
    "    \n",
    "    # 13 vrije zondagen per 52 weken\n",
    "    \n",
    "        # collectieve regeling: ieder ander aantal met individuele instemming\n",
    "        \n",
    "        \n",
    "        \n",
    "    ### nachten\n",
    "    \n",
    "    # nachtdienst: > 1 uur arbeid tussen 0.00 en 06.00\n",
    "    \n",
    "    # arbeidstijd per dienst 10 uren\n",
    "    \n",
    "    # arbeidstijd per dienst 12 uren mits\n",
    "        # rust na dienst >= 12 uren\n",
    "        # maximaal 5 x per 2 weken\n",
    "        # maximaal 22 x per 52 weken\n",
    "        \n",
    "    \n",
    "    # nachtdienst met eindtijd >= 02.00:\n",
    "    # rusttijd >= 14 uren, 1 x per week 8 uren indien noodzakelijk\n",
    "    \n",
    "    \n",
    "    # rusttijd na >= 3 nachtdiensten 46 uren\n",
    "    \n",
    "    # maximum lengte reeks 7 diensten (of 8 bij collectieve regeling)\n",
    "    # dit geldt als minimaal een van de diensten uit de reeks een nachtdienst is\n",
    "    \n",
    "    # maximaal 36 nachtdiensten per 16 weken\n",
    "    \n",
    "    # of collectieve regeling 140 nachtdiensten per 52 weken\n",
    "    # hetzij 38 uur tussen 0.00 en 6.00 per 2 aaneengesloten weken"
   ]
  }
 ],
 "metadata": {
  "kernelspec": {
   "display_name": "Python 3 (ipykernel)",
   "language": "python",
   "name": "python3"
  },
  "language_info": {
   "codemirror_mode": {
    "name": "ipython",
    "version": 3
   },
   "file_extension": ".py",
   "mimetype": "text/x-python",
   "name": "python",
   "nbconvert_exporter": "python",
   "pygments_lexer": "ipython3",
   "version": "3.8.11"
  }
 },
 "nbformat": 4,
 "nbformat_minor": 5
}
