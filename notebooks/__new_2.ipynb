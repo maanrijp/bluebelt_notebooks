{
 "cells": [
  {
   "cell_type": "code",
   "execution_count": 2,
   "id": "028b19c0",
   "metadata": {},
   "outputs": [],
   "source": [
    "import pandas as pd\n",
    "import numpy as np\n",
    "import matplotlib.pyplot as plt\n",
    "import matplotlib.ticker\n",
    "import matplotlib.dates\n",
    "import copy\n",
    "import datetime"
   ]
  },
  {
   "cell_type": "code",
   "execution_count": 3,
   "id": "e45a8d0d",
   "metadata": {},
   "outputs": [],
   "source": [
    "nrows = 500\n",
    "ncols = 6\n",
    "\n",
    "np.random.seed(27)\n",
    "series = pd.Series(np.random.weibull(7,nrows) * 100, index=pd.date_range(start='2021-12-01 00:00:00', periods=nrows), name='process A')\n",
    "frame = pd.DataFrame(np.random.normal(loc=100, scale=20, size=ncols*nrows).reshape(nrows, ncols), index=pd.date_range(start='1-1-2020', periods=nrows), columns=[f'process {col}' for col in range(1, ncols+1)])"
   ]
  },
  {
   "cell_type": "code",
   "execution_count": 4,
   "id": "282da873",
   "metadata": {},
   "outputs": [
    {
     "data": {
      "text/plain": [
       "2021-12-01     91.924281\n",
       "2021-12-02    107.740009\n",
       "2021-12-03    104.152804\n",
       "2021-12-04    110.604887\n",
       "2021-12-05     90.139313\n",
       "                 ...    \n",
       "2023-04-10    110.022511\n",
       "2023-04-11     92.143348\n",
       "2023-04-12    100.585859\n",
       "2023-04-13     61.250231\n",
       "2023-04-14     95.382168\n",
       "Freq: D, Name: process A, Length: 500, dtype: float64"
      ]
     },
     "execution_count": 4,
     "metadata": {},
     "output_type": "execute_result"
    }
   ],
   "source": [
    "series"
   ]
  },
  {
   "cell_type": "code",
   "execution_count": 7,
   "id": "53972652",
   "metadata": {},
   "outputs": [],
   "source": [
    "class Pattern():\n",
    "    def __init__(self, pandas_obj):\n",
    "        self._obj = pandas_obj\n",
    "    \n",
    "    def _week(self, p):\n",
    "        self.week = p"
   ]
  },
  {
   "cell_type": "code",
   "execution_count": 8,
   "id": "7d6025c3",
   "metadata": {},
   "outputs": [],
   "source": [
    "p = Pattern(series)"
   ]
  },
  {
   "cell_type": "code",
   "execution_count": 10,
   "id": "f02c613e",
   "metadata": {},
   "outputs": [],
   "source": [
    "p._week('test')"
   ]
  },
  {
   "cell_type": "code",
   "execution_count": 11,
   "id": "6264e5f9",
   "metadata": {},
   "outputs": [
    {
     "data": {
      "text/plain": [
       "<__main__.Pattern at 0x7fc4521a1ac0>"
      ]
     },
     "execution_count": 11,
     "metadata": {},
     "output_type": "execute_result"
    }
   ],
   "source": [
    "p"
   ]
  },
  {
   "cell_type": "code",
   "execution_count": 15,
   "id": "23d3f1e9",
   "metadata": {},
   "outputs": [
    {
     "data": {
      "text/plain": [
       "'test'"
      ]
     },
     "execution_count": 15,
     "metadata": {},
     "output_type": "execute_result"
    }
   ],
   "source": [
    "p.week"
   ]
  },
  {
   "cell_type": "code",
   "execution_count": null,
   "id": "804740e9",
   "metadata": {},
   "outputs": [],
   "source": []
  }
 ],
 "metadata": {
  "kernelspec": {
   "display_name": "Python 3 (ipykernel)",
   "language": "python",
   "name": "python3"
  },
  "language_info": {
   "codemirror_mode": {
    "name": "ipython",
    "version": 3
   },
   "file_extension": ".py",
   "mimetype": "text/x-python",
   "name": "python",
   "nbconvert_exporter": "python",
   "pygments_lexer": "ipython3",
   "version": "3.8.11"
  }
 },
 "nbformat": 4,
 "nbformat_minor": 5
}
