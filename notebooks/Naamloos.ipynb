{
 "cells": [
  {
   "cell_type": "code",
   "execution_count": 2,
   "id": "96ac6fdd",
   "metadata": {},
   "outputs": [],
   "source": [
    "import itertools\n",
    "options = list(itertools.permutations([3, 4, 7, 8]))"
   ]
  },
  {
   "cell_type": "code",
   "execution_count": 8,
   "id": "416a5ec2",
   "metadata": {},
   "outputs": [
    {
     "name": "stdout",
     "output_type": "stream",
     "text": [
      "(3 - 4 / 7) * 8 = 19.42857142857143\n",
      "(3 - 4 / 8) * 7 = 17.5\n",
      "(3 - 7 / 4) * 8 = 10.0\n",
      "(3 - 7 / 8) * 4 = 8.5\n",
      "(3 - 8 / 4) * 7 = 7.0\n",
      "(3 - 8 / 7) * 4 = 7.428571428571429\n",
      "(4 - 3 / 7) * 8 = 28.571428571428573\n",
      "(4 - 3 / 8) * 7 = 25.375\n",
      "(4 - 7 / 3) * 8 = 13.333333333333332\n",
      "(4 - 7 / 8) * 3 = 9.375\n",
      "(4 - 8 / 3) * 7 = 9.333333333333334\n",
      "(4 - 8 / 7) * 3 = 8.571428571428571\n",
      "(7 - 3 / 4) * 8 = 50.0\n",
      "(7 - 3 / 8) * 4 = 26.5\n",
      "(7 - 4 / 3) * 8 = 45.333333333333336\n",
      "(7 - 4 / 8) * 3 = 19.5\n",
      "(7 - 8 / 3) * 4 = 17.333333333333336\n",
      "(7 - 8 / 4) * 3 = 15.0\n",
      "(8 - 3 / 4) * 7 = 50.75\n",
      "(8 - 3 / 7) * 4 = 30.285714285714285\n",
      "(8 - 4 / 3) * 7 = 46.66666666666667\n",
      "(8 - 4 / 7) * 3 = 22.285714285714285\n",
      "(8 - 7 / 3) * 4 = 22.666666666666664\n",
      "(8 - 7 / 4) * 3 = 18.75\n"
     ]
    }
   ],
   "source": [
    "for option in options:\n",
    "    result = (option[0]-option[1]/option[2])*option[3]\n",
    "    print(f'({option[0]} - {option[1]} / {option[2]}) * {option[3]} = {result}')"
   ]
  },
  {
   "cell_type": "code",
   "execution_count": null,
   "id": "7391623d",
   "metadata": {},
   "outputs": [],
   "source": []
  }
 ],
 "metadata": {
  "kernelspec": {
   "display_name": "Python 3",
   "language": "python",
   "name": "python3"
  },
  "language_info": {
   "codemirror_mode": {
    "name": "ipython",
    "version": 3
   },
   "file_extension": ".py",
   "mimetype": "text/x-python",
   "name": "python",
   "nbconvert_exporter": "python",
   "pygments_lexer": "ipython3",
   "version": "3.8.5"
  }
 },
 "nbformat": 4,
 "nbformat_minor": 5
}
