{
 "cells": [
  {
   "cell_type": "code",
   "execution_count": 108,
   "id": "fe8cd296",
   "metadata": {},
   "outputs": [],
   "source": [
    "import pandas as pd\n",
    "import numpy as np\n",
    "from collections import namedtuple"
   ]
  },
  {
   "cell_type": "code",
   "execution_count": 67,
   "id": "fae62b0d",
   "metadata": {},
   "outputs": [],
   "source": [
    "class PlotParams(): \n",
    "    \n",
    "    def __init__(self, **kwargs):\n",
    "        self.style = kwargs.pop('style', bluebelt.styles.paper)\\\n",
    "        \n",
    "        # labels\n",
    "        self.title = kwargs.pop('title', None)\n",
    "        \n",
    "        # x-axis\n",
    "        self.xlabel = kwargs.pop('xlabel', None)\n",
    "        self.xlim = kwargs.pop('xlim', (None, None))\n",
    "        self.format_xticks = kwargs.pop('format_xticks', None)\n",
    "        self.group = kwargs.pop('group', None)\n",
    "        \n",
    "        # y-axis\n",
    "        self.ylabel = kwargs.pop('ylabel', None)\n",
    "        self.ylim = kwargs.pop('ylim', (None, None))\n",
    "        self.format_yticks = kwargs.pop('format_yticks', None)\n",
    "        \n",
    "        # save plot\n",
    "        self.path = kwargs.pop('path', None)\n",
    "        \n",
    "        # histogram\n",
    "        self.bins = kwargs.pop('bins', 17)\n",
    "        self.min_bins = kwargs.pop('min_bins', 10) # remove\n",
    "        self.max_bins = kwargs.pop('max_bins', 20) # remove\n",
    "        \n",
    "        # bar plot\n",
    "        self.width = kwargs.pop('width', 0.8)\n",
    "        \n",
    "        # values\n",
    "        self.digits = kwargs.pop('digits', 2)"
   ]
  },
  {
   "cell_type": "code",
   "execution_count": 68,
   "id": "8695c519",
   "metadata": {},
   "outputs": [],
   "source": [
    "def test(**kwargs):\n",
    "    pp = PlotParams(**kwargs)\n",
    "    kwargs = pp.kwargs\n",
    "    pp2 = PlotParams2(**kwargs)\n",
    "    \n",
    "    print(pp.test)\n",
    "    print(pp2.lam)\n",
    "    print(pp2.kwargs)"
   ]
  },
  {
   "cell_type": "code",
   "execution_count": 69,
   "id": "3bdaa7a8",
   "metadata": {},
   "outputs": [
    {
     "name": "stdout",
     "output_type": "stream",
     "text": [
      "value\n",
      "4\n",
      "{}\n"
     ]
    }
   ],
   "source": [
    "test(test='value', lim=3, lam=4)"
   ]
  },
  {
   "cell_type": "code",
   "execution_count": 70,
   "id": "72aaee18",
   "metadata": {},
   "outputs": [],
   "source": [
    "pp = PlotParams(test='test', lim=1, x=1, y=2)"
   ]
  },
  {
   "cell_type": "code",
   "execution_count": 71,
   "id": "a7dd6ea7",
   "metadata": {},
   "outputs": [
    {
     "data": {
      "text/plain": [
       "<__main__.PlotParams at 0x7fc040c25d60>"
      ]
     },
     "execution_count": 71,
     "metadata": {},
     "output_type": "execute_result"
    }
   ],
   "source": [
    "pp"
   ]
  },
  {
   "cell_type": "code",
   "execution_count": 56,
   "id": "9d79aa2b",
   "metadata": {},
   "outputs": [],
   "source": [
    "def subset(filters=None, on=None, inverse=False, **kwargs):\n",
    "    print(filters)\n",
    "    print(on)\n",
    "    print(kwargs)"
   ]
  },
  {
   "cell_type": "code",
   "execution_count": 60,
   "id": "9d91fc3b",
   "metadata": {},
   "outputs": [
    {
     "name": "stdout",
     "output_type": "stream",
     "text": [
      "['weekend', 'holidays']\n",
      "None\n",
      "{}\n"
     ]
    }
   ],
   "source": [
    "subset(['weekend', 'holidays'])"
   ]
  },
  {
   "cell_type": "code",
   "execution_count": 92,
   "id": "b8a17281",
   "metadata": {},
   "outputs": [],
   "source": [
    "def split_kwargs(**kwargs):\n",
    "    keys = [key for key in kwargs.keys()]\n",
    "    plot_kwargs = {k:kwargs.pop(k) for k in keys if k in ['test','lim']}\n",
    "    #other_kwargs = {k:kwargs.pop(k) for k in keys if k in ['x','y']}\n",
    "    return plot_kwargs, kwargs"
   ]
  },
  {
   "cell_type": "code",
   "execution_count": 94,
   "id": "d69f746a",
   "metadata": {},
   "outputs": [],
   "source": [
    "plot_kwargs, kwargs = split_kwargs(test=1, y=5)"
   ]
  },
  {
   "cell_type": "code",
   "execution_count": 96,
   "id": "9608c5b2",
   "metadata": {},
   "outputs": [],
   "source": []
  },
  {
   "cell_type": "code",
   "execution_count": 100,
   "id": "7a5c9b40",
   "metadata": {},
   "outputs": [
    {
     "data": {
      "text/plain": [
       "['test', 'lim', 'lam']"
      ]
     },
     "execution_count": 100,
     "metadata": {},
     "output_type": "execute_result"
    }
   ],
   "source": []
  },
  {
   "cell_type": "code",
   "execution_count": 102,
   "id": "677c4913",
   "metadata": {},
   "outputs": [],
   "source": [
    "def get_plot_kwargs(**kwargs):\n",
    "    keys = list(kwargs.keys())\n",
    "    plot_kwargs = {k:kwargs.pop(k) for k in keys if k in ['test','lim']}\n",
    "    return plot_kwargs, kwargs"
   ]
  },
  {
   "cell_type": "code",
   "execution_count": 103,
   "id": "d72efe42",
   "metadata": {},
   "outputs": [],
   "source": [
    "plot_kwargs, kwargs = get_plot_kwargs(test=1, y=5)"
   ]
  },
  {
   "cell_type": "code",
   "execution_count": 106,
   "id": "bc566df0",
   "metadata": {},
   "outputs": [
    {
     "data": {
      "text/plain": [
       "{'test': 1}"
      ]
     },
     "execution_count": 106,
     "metadata": {},
     "output_type": "execute_result"
    }
   ],
   "source": [
    "plot_kwargs"
   ]
  },
  {
   "cell_type": "code",
   "execution_count": null,
   "id": "71ec0547",
   "metadata": {},
   "outputs": [],
   "source": [
    "'style', 'title', 'path', 'xlim', 'ylim', 'format_xticks', 'format_yticks'"
   ]
  }
 ],
 "metadata": {
  "kernelspec": {
   "display_name": "Python 3",
   "language": "python",
   "name": "python3"
  },
  "language_info": {
   "codemirror_mode": {
    "name": "ipython",
    "version": 3
   },
   "file_extension": ".py",
   "mimetype": "text/x-python",
   "name": "python",
   "nbconvert_exporter": "python",
   "pygments_lexer": "ipython3",
   "version": "3.8.5"
  }
 },
 "nbformat": 4,
 "nbformat_minor": 5
}
