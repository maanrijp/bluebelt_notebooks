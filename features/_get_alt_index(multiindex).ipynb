{
 "cells": [
  {
   "cell_type": "code",
   "execution_count": 1,
   "id": "98a530ff",
   "metadata": {},
   "outputs": [],
   "source": [
    "import pandas as pd\n",
    "import numpy as np\n",
    "import bluebelt as blue\n",
    "import datetime"
   ]
  },
  {
   "cell_type": "code",
   "execution_count": null,
   "id": "262a5f3f",
   "metadata": {},
   "outputs": [],
   "source": []
  },
  {
   "cell_type": "code",
   "execution_count": 2,
   "id": "2608d13d",
   "metadata": {},
   "outputs": [],
   "source": [
    "nrows = 100\n",
    "ncols = 4\n",
    "\n",
    "np.random.seed(27)\n",
    "series = pd.Series(np.random.weibull(7,nrows) * 100, index=pd.date_range(start='2019-12-06', periods=nrows), name='process A')\n",
    "frame = pd.DataFrame(np.random.normal(loc=100, scale=20, size=ncols*nrows).reshape(nrows, ncols), index=pd.date_range(start='1-1-2020', periods=nrows), columns=[f'process {col}' for col in range(1, ncols+1)])\n",
    "\n",
    "series[series.sample(5).index] = np.nan # break the series\n",
    "for col in frame.columns:\n",
    "    frame.at[frame.sample(5).index, col] = np.nan # break the frame"
   ]
  },
  {
   "cell_type": "code",
   "execution_count": 20,
   "id": "6705f31d",
   "metadata": {},
   "outputs": [
    {
     "data": {
      "text/plain": [
       "day\n",
       "1    1283.859601\n",
       "2    1249.784104\n",
       "3    1422.188574\n",
       "4    1172.497273\n",
       "5    1401.281635\n",
       "6    1241.372457\n",
       "7    1378.581886\n",
       "Name: process A, dtype: float64"
      ]
     },
     "execution_count": 20,
     "metadata": {},
     "output_type": "execute_result"
    }
   ],
   "source": [
    "x = series.blue.index.groupby(level='day')\n",
    "x.sum()"
   ]
  },
  {
   "cell_type": "code",
   "execution_count": 25,
   "id": "bc4906f2",
   "metadata": {},
   "outputs": [
    {
     "data": {
      "text/plain": [
       "False"
      ]
     },
     "execution_count": 25,
     "metadata": {},
     "output_type": "execute_result"
    }
   ],
   "source": [
    "x.grouped.obj.index.names[-1] == 'day'[-1]"
   ]
  },
  {
   "cell_type": "code",
   "execution_count": null,
   "id": "5230a882",
   "metadata": {},
   "outputs": [],
   "source": []
  },
  {
   "cell_type": "code",
   "execution_count": 32,
   "id": "5025b41a",
   "metadata": {},
   "outputs": [
    {
     "data": {
      "text/plain": [
       "'t'"
      ]
     },
     "execution_count": 32,
     "metadata": {},
     "output_type": "execute_result"
    }
   ],
   "source": [
    "xxx = ['week', 'day', 't']\n",
    "xxx[-1] if isinstance(xxx, list) else xxx"
   ]
  },
  {
   "cell_type": "code",
   "execution_count": 4,
   "id": "9fda9ce4",
   "metadata": {},
   "outputs": [
    {
     "data": {
      "text/plain": [
       "array([ 0.,  1.,  2.,  3.,  5.,  7.,  8.,  9., 10., 11., 12., 13., 14.,\n",
       "       15., 16., 17., 18., 19., 21., 22., 23., 24., 25., 26., 27., 28.,\n",
       "       29., 30., 31., 32., 33., 34., 35., 36., 37., 38., 39., 40., 41.,\n",
       "       42., 43., 44., 45., 46., 47., 48., 49., 50., 51., 52., 53., 54.,\n",
       "       55., 56., 57., 58., 59., 60., 61., 62., 63., 64., 65., 66., 67.,\n",
       "       68., 69., 70., 71., 72., 73., 74., 75., 76., 77., 79., 81., 82.,\n",
       "       83., 84., 85., 86., 87., 88., 89., 90., 91., 92., 93., 94., 95.,\n",
       "       96., 97., 98., 99.])"
      ]
     },
     "execution_count": 4,
     "metadata": {},
     "output_type": "execute_result"
    }
   ],
   "source": [
    "series.dropna().index.blue.alt"
   ]
  },
  {
   "cell_type": "code",
   "execution_count": 3,
   "id": "fb3ca9ed",
   "metadata": {},
   "outputs": [
    {
     "data": {
      "text/plain": [
       "array([ 0.,  1.,  2.,  3.,  4.,  5.,  6.,  7.,  8.,  9., 10., 11., 12.,\n",
       "       13., 14., 15., 16., 17., 18., 19., 20., 21., 22., 23., 24., 25.,\n",
       "       26., 27., 28., 29., 30., 31., 32., 33., 34., 35., 36., 37., 38.,\n",
       "       39., 40., 41., 42., 43., 44., 45., 46., 47., 48., 49., 50., 51.,\n",
       "       52., 53., 54., 55., 56., 57., 58., 59., 60., 61., 62., 63., 64.,\n",
       "       65., 66., 67., 68., 69., 70., 71., 72., 73., 74., 75., 76., 77.,\n",
       "       78., 79., 80., 81., 82., 83., 84., 85., 86., 87., 88., 89., 90.,\n",
       "       91., 92., 93., 94., 95., 96., 97., 98., 99.])"
      ]
     },
     "execution_count": 3,
     "metadata": {},
     "output_type": "execute_result"
    }
   ],
   "source": [
    "s = series.blue.index.groupby(level=['year', 'week', 'day']).sum()\n",
    "blue.core.index.IndexToolkit(s.index).alt"
   ]
  },
  {
   "cell_type": "code",
   "execution_count": 5,
   "id": "e0d7c3f4",
   "metadata": {},
   "outputs": [
    {
     "data": {
      "text/plain": [
       "MultiIndex([(2019, 49, 5),\n",
       "            (2019, 49, 6),\n",
       "            (2019, 49, 7),\n",
       "            (2019, 50, 1),\n",
       "            (2019, 50, 2),\n",
       "            (2019, 50, 3),\n",
       "            (2019, 50, 4),\n",
       "            (2019, 50, 5),\n",
       "            (2019, 50, 6),\n",
       "            (2019, 50, 7),\n",
       "            (2019, 51, 1),\n",
       "            (2019, 51, 2),\n",
       "            (2019, 51, 3),\n",
       "            (2019, 51, 4),\n",
       "            (2019, 51, 5),\n",
       "            (2019, 51, 6),\n",
       "            (2019, 51, 7),\n",
       "            (2019, 52, 1),\n",
       "            (2019, 52, 2),\n",
       "            (2019, 52, 3),\n",
       "            (2019, 52, 4),\n",
       "            (2019, 52, 5),\n",
       "            (2019, 52, 6),\n",
       "            (2019, 52, 7),\n",
       "            (2020,  1, 1),\n",
       "            (2020,  1, 2),\n",
       "            (2020,  1, 3),\n",
       "            (2020,  1, 4),\n",
       "            (2020,  1, 5),\n",
       "            (2020,  1, 6),\n",
       "            (2020,  1, 7),\n",
       "            (2020,  2, 1),\n",
       "            (2020,  2, 2),\n",
       "            (2020,  2, 3),\n",
       "            (2020,  2, 4),\n",
       "            (2020,  2, 5),\n",
       "            (2020,  2, 6),\n",
       "            (2020,  2, 7),\n",
       "            (2020,  3, 1),\n",
       "            (2020,  3, 2),\n",
       "            (2020,  3, 3),\n",
       "            (2020,  3, 4),\n",
       "            (2020,  3, 5),\n",
       "            (2020,  3, 6),\n",
       "            (2020,  3, 7),\n",
       "            (2020,  4, 1),\n",
       "            (2020,  4, 2),\n",
       "            (2020,  4, 3),\n",
       "            (2020,  4, 4),\n",
       "            (2020,  4, 5),\n",
       "            (2020,  4, 6),\n",
       "            (2020,  4, 7),\n",
       "            (2020,  5, 1),\n",
       "            (2020,  5, 2),\n",
       "            (2020,  5, 3),\n",
       "            (2020,  5, 4),\n",
       "            (2020,  5, 5),\n",
       "            (2020,  5, 6),\n",
       "            (2020,  5, 7),\n",
       "            (2020,  6, 1),\n",
       "            (2020,  6, 2),\n",
       "            (2020,  6, 3),\n",
       "            (2020,  6, 4),\n",
       "            (2020,  6, 5),\n",
       "            (2020,  6, 6),\n",
       "            (2020,  6, 7),\n",
       "            (2020,  7, 1),\n",
       "            (2020,  7, 2),\n",
       "            (2020,  7, 3),\n",
       "            (2020,  7, 4),\n",
       "            (2020,  7, 5),\n",
       "            (2020,  7, 6),\n",
       "            (2020,  7, 7),\n",
       "            (2020,  8, 1),\n",
       "            (2020,  8, 2),\n",
       "            (2020,  8, 3),\n",
       "            (2020,  8, 4),\n",
       "            (2020,  8, 5),\n",
       "            (2020,  8, 6),\n",
       "            (2020,  8, 7),\n",
       "            (2020,  9, 1),\n",
       "            (2020,  9, 2),\n",
       "            (2020,  9, 3),\n",
       "            (2020,  9, 4),\n",
       "            (2020,  9, 5),\n",
       "            (2020,  9, 6),\n",
       "            (2020,  9, 7),\n",
       "            (2020, 10, 1),\n",
       "            (2020, 10, 2),\n",
       "            (2020, 10, 3),\n",
       "            (2020, 10, 4),\n",
       "            (2020, 10, 5),\n",
       "            (2020, 10, 6),\n",
       "            (2020, 10, 7),\n",
       "            (2020, 11, 1),\n",
       "            (2020, 11, 2),\n",
       "            (2020, 11, 3),\n",
       "            (2020, 11, 4),\n",
       "            (2020, 11, 5),\n",
       "            (2020, 11, 6)],\n",
       "           names=['year', 'week', 'day'])"
      ]
     },
     "execution_count": 5,
     "metadata": {},
     "output_type": "execute_result"
    }
   ],
   "source": [
    "series.index.blue.iso()"
   ]
  },
  {
   "cell_type": "code",
   "execution_count": 30,
   "id": "6d918cd7",
   "metadata": {},
   "outputs": [],
   "source": [
    "def _get_alt_index(index):\n",
    "    \n",
    "    if not isinstance(index, pd.MultiIndex):\n",
    "        raise ValueError(\"index is not a Pandas MultiIndex\")\n",
    "        \n",
    "    index = _complete(index)\n",
    "    \n",
    "    if 'week' in index.names:\n",
    "        _index = np.array([datetime.datetime.fromisocalendar(*row).timestamp() for row in index], dtype='int')\n",
    "    \n",
    "    elif 'month' in index.names: \n",
    "        _index = np.array([datetime.datetime(*row).timestamp() for row in index], dtype='int')\n",
    "    \n",
    "    # clean _index\n",
    "    _index = _index - _index.min()\n",
    "    _index = _index / np.gcd.reduce(_index)\n",
    "    \n",
    "    return _index\n",
    "\n",
    "def _complete(index):\n",
    "    '''\n",
    "    add missing levels to the index\n",
    "    '''\n",
    "    \n",
    "    if not isinstance(index, pd.MultiIndex):\n",
    "        raise ValueError(\"index is not a Pandas MultiIndex\")\n",
    "        \n",
    "    if 'week' in index.names:\n",
    "        # add missing levels to the index\n",
    "        _dict = index.to_frame(index=False).to_dict()\n",
    "\n",
    "        _default_dict ={\n",
    "            'year': {key: datetime.datetime.now().year for key in range(index.shape[0])},\n",
    "            'week': {key: 1 for key in range(index.shape[0])},\n",
    "            'day': {key: 1 for key in range(index.shape[0])},\n",
    "        }\n",
    "\n",
    "        for level, data in _default_dict.items():\n",
    "            _dict[level] = _dict.get(level, _default_dict[level])\n",
    "            \n",
    "        return pd.MultiIndex.from_frame(pd.DataFrame.from_dict(_dict)[_default_dict.keys()])\n",
    "    \n",
    "    elif 'month' in index.names:\n",
    "        _dict = index.to_frame(index=False).to_dict()\n",
    "\n",
    "        _default_dict = {\n",
    "            'year': {key: datetime.datetime.now().year for key in range(index.shape[0])},\n",
    "            'month': {key: 1 for key in range(index.shape[0])},\n",
    "            'day': {key: 1 for key in range(index.shape[0])},\n",
    "        }\n",
    "\n",
    "        for level, data in _default_dict.items():\n",
    "            _dict[level] = _dict.get(level, _default_dict[level])\n",
    "        return pd.MultiIndex.from_frame(pd.DataFrame.from_dict(_dict)[_default_dict.keys()])\n",
    "    \n",
    "    else:\n",
    "        return index"
   ]
  },
  {
   "cell_type": "code",
   "execution_count": 31,
   "id": "8a9b5b08",
   "metadata": {},
   "outputs": [
    {
     "data": {
      "text/plain": [
       "array([ 0.,  1.,  2.,  3.,  5.,  7.,  8.,  9., 10., 11., 12., 13., 14.,\n",
       "       15., 16., 17., 18., 19., 21., 22., 23., 24., 25., 26., 27., 28.,\n",
       "       29., 30., 31., 32., 33., 34., 35., 36., 37., 38., 39., 40., 41.,\n",
       "       42., 43., 44., 45., 46., 47., 48., 49., 50., 51., 52., 53., 54.,\n",
       "       55., 56., 57., 58., 59., 60., 61., 62., 63., 64., 65., 66., 67.,\n",
       "       68., 69., 70., 71., 72., 73., 74., 75., 76., 77., 79., 81., 82.,\n",
       "       83., 84., 85., 86., 87., 88., 89., 90., 91., 92., 93., 94., 95.,\n",
       "       96., 97., 98., 99.])"
      ]
     },
     "execution_count": 31,
     "metadata": {},
     "output_type": "execute_result"
    }
   ],
   "source": [
    "_get_alt_index(s.dropna().index)"
   ]
  },
  {
   "cell_type": "code",
   "execution_count": 17,
   "id": "030798d2",
   "metadata": {},
   "outputs": [
    {
     "data": {
      "text/plain": [
       "'minute'"
      ]
     },
     "execution_count": 17,
     "metadata": {},
     "output_type": "execute_result"
    }
   ],
   "source": [
    "_levels = {\n",
    "        'year': 0,\n",
    "        'month': 1,\n",
    "        'week': 2,\n",
    "        'day': 3,\n",
    "        'hour': 4,\n",
    "        'minute': 5,\n",
    "        'second': 6,\n",
    "    }\n",
    "\n",
    "keys = ['minute', 'year', 'week']\n",
    "_levels = {key: _levels[key] for key in keys }\n",
    "max_key = max(_levels, key=_levels.get)\n",
    "max_key"
   ]
  },
  {
   "cell_type": "code",
   "execution_count": 24,
   "id": "efa22d80",
   "metadata": {},
   "outputs": [],
   "source": [
    "level = 'week'"
   ]
  },
  {
   "cell_type": "code",
   "execution_count": 25,
   "id": "e0ad8cff",
   "metadata": {},
   "outputs": [],
   "source": [
    "_levels = ['year', 'week', 'day']\n",
    "\n",
    "level = _levels[:_levels.index(level)+1]"
   ]
  },
  {
   "cell_type": "code",
   "execution_count": 26,
   "id": "4561da8b",
   "metadata": {},
   "outputs": [
    {
     "data": {
      "text/plain": [
       "['year', 'week']"
      ]
     },
     "execution_count": 26,
     "metadata": {},
     "output_type": "execute_result"
    }
   ],
   "source": [
    "level"
   ]
  },
  {
   "cell_type": "code",
   "execution_count": 21,
   "id": "4019147f",
   "metadata": {},
   "outputs": [
    {
     "data": {
      "text/plain": [
       "1"
      ]
     },
     "execution_count": 21,
     "metadata": {},
     "output_type": "execute_result"
    }
   ],
   "source": [
    "_levels.index('week')"
   ]
  },
  {
   "cell_type": "code",
   "execution_count": null,
   "id": "aaeb060f",
   "metadata": {},
   "outputs": [],
   "source": []
  }
 ],
 "metadata": {
  "kernelspec": {
   "display_name": "Python 3",
   "language": "python",
   "name": "python3"
  },
  "language_info": {
   "codemirror_mode": {
    "name": "ipython",
    "version": 3
   },
   "file_extension": ".py",
   "mimetype": "text/x-python",
   "name": "python",
   "nbconvert_exporter": "python",
   "pygments_lexer": "ipython3",
   "version": "3.8.5"
  }
 },
 "nbformat": 4,
 "nbformat_minor": 5
}
