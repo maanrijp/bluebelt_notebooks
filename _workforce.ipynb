{
 "cells": [
  {
   "cell_type": "markdown",
   "id": "7042a57a",
   "metadata": {},
   "source": [
    "# workforce"
   ]
  },
  {
   "cell_type": "code",
   "execution_count": 1,
   "id": "878890d6",
   "metadata": {},
   "outputs": [],
   "source": [
    "import bluebelt as blue\n",
    "import numpy as np\n",
    "import pandas as pd"
   ]
  },
  {
   "cell_type": "code",
   "execution_count": 8,
   "id": "24dc1dd4",
   "metadata": {},
   "outputs": [],
   "source": [
    "series = blue.create.series(1)"
   ]
  },
  {
   "cell_type": "code",
   "execution_count": null,
   "id": "9f452610",
   "metadata": {},
   "outputs": [],
   "source": []
  },
  {
   "cell_type": "markdown",
   "id": "93111b65",
   "metadata": {},
   "source": [
    "- aantal\n",
    "- min\n",
    "- max\n",
    "- periode"
   ]
  },
  {
   "cell_type": "code",
   "execution_count": 2,
   "id": "f671f2f0",
   "metadata": {},
   "outputs": [],
   "source": [
    "class Workforce:\n",
    "    def __init__(self):\n",
    "        self._obj = pd.DataFrame()\n",
    "        #self._obj = _obj\n",
    "\n",
    "    def add_perm(self, series, name=None):\n",
    "        if name:\n",
    "            self._obj[name] = series"
   ]
  },
  {
   "cell_type": "code",
   "execution_count": 3,
   "id": "f72902f1",
   "metadata": {},
   "outputs": [],
   "source": [
    "wf = Workforce()"
   ]
  },
  {
   "cell_type": "code",
   "execution_count": 6,
   "id": "157cb78b",
   "metadata": {},
   "outputs": [
    {
     "data": {
      "text/plain": [
       "pandas.core.frame.DataFrame"
      ]
     },
     "execution_count": 6,
     "metadata": {},
     "output_type": "execute_result"
    }
   ],
   "source": [
    "type(wf._obj)"
   ]
  },
  {
   "cell_type": "code",
   "execution_count": 13,
   "id": "dbf57f1a",
   "metadata": {},
   "outputs": [],
   "source": [
    "wf.add_perm(series, name='test')"
   ]
  },
  {
   "cell_type": "code",
   "execution_count": 14,
   "id": "629b34f8",
   "metadata": {},
   "outputs": [
    {
     "data": {
      "text/html": [
       "<div>\n",
       "<style scoped>\n",
       "    .dataframe tbody tr th:only-of-type {\n",
       "        vertical-align: middle;\n",
       "    }\n",
       "\n",
       "    .dataframe tbody tr th {\n",
       "        vertical-align: top;\n",
       "    }\n",
       "\n",
       "    .dataframe thead th {\n",
       "        text-align: right;\n",
       "    }\n",
       "</style>\n",
       "<table border=\"1\" class=\"dataframe\">\n",
       "  <thead>\n",
       "    <tr style=\"text-align: right;\">\n",
       "      <th></th>\n",
       "      <th>test</th>\n",
       "    </tr>\n",
       "  </thead>\n",
       "  <tbody>\n",
       "    <tr>\n",
       "      <th>2022-01-03</th>\n",
       "      <td>492.25</td>\n",
       "    </tr>\n",
       "    <tr>\n",
       "      <th>2022-01-04</th>\n",
       "      <td>378.75</td>\n",
       "    </tr>\n",
       "    <tr>\n",
       "      <th>2022-01-05</th>\n",
       "      <td>454.25</td>\n",
       "    </tr>\n",
       "    <tr>\n",
       "      <th>2022-01-06</th>\n",
       "      <td>476.00</td>\n",
       "    </tr>\n",
       "    <tr>\n",
       "      <th>2022-01-07</th>\n",
       "      <td>396.00</td>\n",
       "    </tr>\n",
       "    <tr>\n",
       "      <th>...</th>\n",
       "      <td>...</td>\n",
       "    </tr>\n",
       "    <tr>\n",
       "      <th>2022-12-28</th>\n",
       "      <td>631.00</td>\n",
       "    </tr>\n",
       "    <tr>\n",
       "      <th>2022-12-29</th>\n",
       "      <td>674.75</td>\n",
       "    </tr>\n",
       "    <tr>\n",
       "      <th>2022-12-30</th>\n",
       "      <td>694.50</td>\n",
       "    </tr>\n",
       "    <tr>\n",
       "      <th>2022-12-31</th>\n",
       "      <td>156.25</td>\n",
       "    </tr>\n",
       "    <tr>\n",
       "      <th>2023-01-01</th>\n",
       "      <td>21.25</td>\n",
       "    </tr>\n",
       "  </tbody>\n",
       "</table>\n",
       "<p>364 rows × 1 columns</p>\n",
       "</div>"
      ],
      "text/plain": [
       "              test\n",
       "2022-01-03  492.25\n",
       "2022-01-04  378.75\n",
       "2022-01-05  454.25\n",
       "2022-01-06  476.00\n",
       "2022-01-07  396.00\n",
       "...            ...\n",
       "2022-12-28  631.00\n",
       "2022-12-29  674.75\n",
       "2022-12-30  694.50\n",
       "2022-12-31  156.25\n",
       "2023-01-01   21.25\n",
       "\n",
       "[364 rows x 1 columns]"
      ]
     },
     "execution_count": 14,
     "metadata": {},
     "output_type": "execute_result"
    }
   ],
   "source": [
    "wf._obj"
   ]
  },
  {
   "cell_type": "code",
   "execution_count": 12,
   "id": "43ee8d52",
   "metadata": {},
   "outputs": [
    {
     "ename": "TypeError",
     "evalue": "'Workforce' object is not callable",
     "output_type": "error",
     "traceback": [
      "\u001b[0;31m---------------------------------------------------------------------------\u001b[0m",
      "\u001b[0;31mTypeError\u001b[0m                                 Traceback (most recent call last)",
      "Input \u001b[0;32mIn [12]\u001b[0m, in \u001b[0;36m<cell line: 1>\u001b[0;34m()\u001b[0m\n\u001b[0;32m----> 1\u001b[0m \u001b[43mwf\u001b[49m\u001b[43m(\u001b[49m\u001b[43m)\u001b[49m\n",
      "\u001b[0;31mTypeError\u001b[0m: 'Workforce' object is not callable"
     ]
    }
   ],
   "source": [
    "wf"
   ]
  },
  {
   "cell_type": "code",
   "execution_count": null,
   "id": "091fe67c",
   "metadata": {},
   "outputs": [],
   "source": []
  }
 ],
 "metadata": {
  "kernelspec": {
   "display_name": "Python 3 (ipykernel)",
   "language": "python",
   "name": "python3"
  },
  "language_info": {
   "codemirror_mode": {
    "name": "ipython",
    "version": 3
   },
   "file_extension": ".py",
   "mimetype": "text/x-python",
   "name": "python",
   "nbconvert_exporter": "python",
   "pygments_lexer": "ipython3",
   "version": "3.8.11"
  }
 },
 "nbformat": 4,
 "nbformat_minor": 5
}
