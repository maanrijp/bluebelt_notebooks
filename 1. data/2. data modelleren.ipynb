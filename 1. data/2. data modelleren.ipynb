{
 "cells": [
  {
   "cell_type": "markdown",
   "id": "df1021e3",
   "metadata": {},
   "source": [
    "# data modelleren"
   ]
  },
  {
   "cell_type": "code",
   "execution_count": 1,
   "id": "e6db165a",
   "metadata": {},
   "outputs": [],
   "source": [
    "import bluebelt as blue"
   ]
  },
  {
   "cell_type": "code",
   "execution_count": 2,
   "id": "95aed7d2",
   "metadata": {},
   "outputs": [
    {
     "data": {
      "text/html": [
       "<div>\n",
       "<style scoped>\n",
       "    .dataframe tbody tr th:only-of-type {\n",
       "        vertical-align: middle;\n",
       "    }\n",
       "\n",
       "    .dataframe tbody tr th {\n",
       "        vertical-align: top;\n",
       "    }\n",
       "\n",
       "    .dataframe thead th {\n",
       "        text-align: right;\n",
       "    }\n",
       "</style>\n",
       "<table border=\"1\" class=\"dataframe\">\n",
       "  <thead>\n",
       "    <tr style=\"text-align: right;\">\n",
       "      <th></th>\n",
       "      <th>skill A</th>\n",
       "      <th>skill B</th>\n",
       "      <th>skill C</th>\n",
       "      <th>skill D</th>\n",
       "    </tr>\n",
       "  </thead>\n",
       "  <tbody>\n",
       "    <tr>\n",
       "      <th>2022-01-03</th>\n",
       "      <td>436.031961</td>\n",
       "      <td>470.563771</td>\n",
       "      <td>547.781819</td>\n",
       "      <td>469.384652</td>\n",
       "    </tr>\n",
       "    <tr>\n",
       "      <th>2022-01-04</th>\n",
       "      <td>480.013164</td>\n",
       "      <td>480.379172</td>\n",
       "      <td>461.235986</td>\n",
       "      <td>476.735528</td>\n",
       "    </tr>\n",
       "    <tr>\n",
       "      <th>2022-01-05</th>\n",
       "      <td>473.257914</td>\n",
       "      <td>419.049123</td>\n",
       "      <td>466.616442</td>\n",
       "      <td>471.565565</td>\n",
       "    </tr>\n",
       "    <tr>\n",
       "      <th>2022-01-06</th>\n",
       "      <td>470.861825</td>\n",
       "      <td>498.359128</td>\n",
       "      <td>374.219934</td>\n",
       "      <td>447.805140</td>\n",
       "    </tr>\n",
       "    <tr>\n",
       "      <th>2022-01-07</th>\n",
       "      <td>459.313795</td>\n",
       "      <td>461.145052</td>\n",
       "      <td>NaN</td>\n",
       "      <td>493.033639</td>\n",
       "    </tr>\n",
       "  </tbody>\n",
       "</table>\n",
       "</div>"
      ],
      "text/plain": [
       "               skill A     skill B     skill C     skill D\n",
       "2022-01-03  436.031961  470.563771  547.781819  469.384652\n",
       "2022-01-04  480.013164  480.379172  461.235986  476.735528\n",
       "2022-01-05  473.257914  419.049123  466.616442  471.565565\n",
       "2022-01-06  470.861825  498.359128  374.219934  447.805140\n",
       "2022-01-07  459.313795  461.145052         NaN  493.033639"
      ]
     },
     "execution_count": 2,
     "metadata": {},
     "output_type": "execute_result"
    }
   ],
   "source": [
    "frame = blue.dummy_frame(1, 4) # 1 jaar, 4 skills\n",
    "frame.head()"
   ]
  },
  {
   "cell_type": "markdown",
   "id": "fef0a62d",
   "metadata": {},
   "source": [
    "resolutie wijzigen"
   ]
  },
  {
   "cell_type": "code",
   "execution_count": 9,
   "id": "8c2e27d7",
   "metadata": {},
   "outputs": [
    {
     "data": {
      "text/plain": [
       "<pandas.core.resample.DatetimeIndexResampler object at 0x161575a30>"
      ]
     },
     "execution_count": 9,
     "metadata": {},
     "output_type": "execute_result"
    }
   ],
   "source": [
    "# groeperen per 13 weken levert een resample-object op\n",
    "frame._.resample(\"13w\")"
   ]
  },
  {
   "cell_type": "markdown",
   "id": "7a38fee2",
   "metadata": {},
   "source": [
    "Er zijn meerdere functies beschikbaar die op het resample-object (DatetimeIndexResampler) kunnen worden toegepast. Kies uit:\n",
    "- sum()\n",
    "- mean()\n",
    "- var()\n",
    "- std()\n",
    "- min()\n",
    "- max()\n",
    "- count()\n",
    "- value_range()\n",
    "- subseries()\n",
    "- diff_quantity()\n",
    "- diff_distribution()\n",
    "- diff_skills()\n",
    "\n",
    "De laatste vier opties zijn bijzondere functies die bedoelt zijn om op een resample-object dat per 7 dagen is gegroepeerd toe te passen. Ze werken overigens wel op andere groeperingen maar de zin daarvan is beperkt."
   ]
  },
  {
   "cell_type": "code",
   "execution_count": 10,
   "id": "bc674468",
   "metadata": {},
   "outputs": [
    {
     "data": {
      "text/html": [
       "<div>\n",
       "<style scoped>\n",
       "    .dataframe tbody tr th:only-of-type {\n",
       "        vertical-align: middle;\n",
       "    }\n",
       "\n",
       "    .dataframe tbody tr th {\n",
       "        vertical-align: top;\n",
       "    }\n",
       "\n",
       "    .dataframe thead th {\n",
       "        text-align: right;\n",
       "    }\n",
       "</style>\n",
       "<table border=\"1\" class=\"dataframe\">\n",
       "  <thead>\n",
       "    <tr style=\"text-align: right;\">\n",
       "      <th></th>\n",
       "      <th>skill A</th>\n",
       "      <th>skill B</th>\n",
       "      <th>skill C</th>\n",
       "      <th>skill D</th>\n",
       "    </tr>\n",
       "  </thead>\n",
       "  <tbody>\n",
       "    <tr>\n",
       "      <th>2022-01-03</th>\n",
       "      <td>203.348617</td>\n",
       "      <td>202.434028</td>\n",
       "      <td>201.230713</td>\n",
       "      <td>196.234404</td>\n",
       "    </tr>\n",
       "    <tr>\n",
       "      <th>2022-04-04</th>\n",
       "      <td>206.904114</td>\n",
       "      <td>205.861515</td>\n",
       "      <td>207.773257</td>\n",
       "      <td>205.229229</td>\n",
       "    </tr>\n",
       "    <tr>\n",
       "      <th>2022-07-04</th>\n",
       "      <td>201.147130</td>\n",
       "      <td>200.303982</td>\n",
       "      <td>205.204302</td>\n",
       "      <td>199.617306</td>\n",
       "    </tr>\n",
       "    <tr>\n",
       "      <th>2022-10-03</th>\n",
       "      <td>216.123986</td>\n",
       "      <td>219.585679</td>\n",
       "      <td>217.645947</td>\n",
       "      <td>217.829866</td>\n",
       "    </tr>\n",
       "  </tbody>\n",
       "</table>\n",
       "</div>"
      ],
      "text/plain": [
       "               skill A     skill B     skill C     skill D\n",
       "2022-01-03  203.348617  202.434028  201.230713  196.234404\n",
       "2022-04-04  206.904114  205.861515  207.773257  205.229229\n",
       "2022-07-04  201.147130  200.303982  205.204302  199.617306\n",
       "2022-10-03  216.123986  219.585679  217.645947  217.829866"
      ]
     },
     "execution_count": 10,
     "metadata": {},
     "output_type": "execute_result"
    }
   ],
   "source": [
    "# bijvoorbeeld groeperen per 13 weken en de standaard deviatie van de groep berekenen\n",
    "frame._.resample(\"13w\").std()"
   ]
  },
  {
   "cell_type": "code",
   "execution_count": 14,
   "id": "972ce7f3",
   "metadata": {},
   "outputs": [
    {
     "data": {
      "text/html": [
       "<div>\n",
       "<style scoped>\n",
       "    .dataframe tbody tr th:only-of-type {\n",
       "        vertical-align: middle;\n",
       "    }\n",
       "\n",
       "    .dataframe tbody tr th {\n",
       "        vertical-align: top;\n",
       "    }\n",
       "\n",
       "    .dataframe thead th {\n",
       "        text-align: right;\n",
       "    }\n",
       "</style>\n",
       "<table border=\"1\" class=\"dataframe\">\n",
       "  <thead>\n",
       "    <tr style=\"text-align: right;\">\n",
       "      <th></th>\n",
       "      <th>skill A</th>\n",
       "      <th>skill B</th>\n",
       "      <th>skill C</th>\n",
       "      <th>skill D</th>\n",
       "    </tr>\n",
       "  </thead>\n",
       "  <tbody>\n",
       "    <tr>\n",
       "      <th>2022-01-03</th>\n",
       "      <td>33522.001002</td>\n",
       "      <td>34236.850140</td>\n",
       "      <td>33394.441716</td>\n",
       "      <td>33839.592701</td>\n",
       "    </tr>\n",
       "    <tr>\n",
       "      <th>2022-03-31</th>\n",
       "      <td>34941.970183</td>\n",
       "      <td>34439.394539</td>\n",
       "      <td>34677.160873</td>\n",
       "      <td>35517.863091</td>\n",
       "    </tr>\n",
       "    <tr>\n",
       "      <th>2022-06-26</th>\n",
       "      <td>33246.176560</td>\n",
       "      <td>33790.857334</td>\n",
       "      <td>32960.489407</td>\n",
       "      <td>34462.805638</td>\n",
       "    </tr>\n",
       "    <tr>\n",
       "      <th>2022-09-21</th>\n",
       "      <td>34909.916855</td>\n",
       "      <td>35013.786781</td>\n",
       "      <td>36187.787155</td>\n",
       "      <td>35232.636762</td>\n",
       "    </tr>\n",
       "    <tr>\n",
       "      <th>2022-12-17</th>\n",
       "      <td>5925.175448</td>\n",
       "      <td>6239.216174</td>\n",
       "      <td>6151.447293</td>\n",
       "      <td>5952.429817</td>\n",
       "    </tr>\n",
       "  </tbody>\n",
       "</table>\n",
       "</div>"
      ],
      "text/plain": [
       "                 skill A       skill B       skill C       skill D\n",
       "2022-01-03  33522.001002  34236.850140  33394.441716  33839.592701\n",
       "2022-03-31  34941.970183  34439.394539  34677.160873  35517.863091\n",
       "2022-06-26  33246.176560  33790.857334  32960.489407  34462.805638\n",
       "2022-09-21  34909.916855  35013.786781  36187.787155  35232.636762\n",
       "2022-12-17   5925.175448   6239.216174   6151.447293   5952.429817"
      ]
     },
     "execution_count": 14,
     "metadata": {},
     "output_type": "execute_result"
    }
   ],
   "source": [
    "# maar het kan ook per 87 dagen (als je dat zou willen)\n",
    "frame._.resample(\"87d\").sum()"
   ]
  },
  {
   "cell_type": "markdown",
   "id": "0f31b37d",
   "metadata": {},
   "source": [
    "Met subseries bepaal je het aantal subseries van x aantal dagen van y uren per dag dat past in de groep."
   ]
  },
  {
   "cell_type": "code",
   "execution_count": 28,
   "id": "e92ecce1",
   "metadata": {},
   "outputs": [
    {
     "data": {
      "image/png": "[encoded data removed]",
      "text/plain": [
       "<Figure size 360x216 with 1 Axes>"
      ]
     },
     "execution_count": 28,
     "metadata": {},
     "output_type": "execute_result"
    }
   ],
   "source": [
    "# bijvoorbeeld hoeveel mensen met skill A heb ik per week nodig wanneer iedereen 3 dagen van 8 uren werkt?\n",
    "series = frame['skill A']._.resample(\"1w\").subseries(3, 8)\n",
    "series._.area(figsize=(5,3), ylim=(0,None))"
   ]
  },
  {
   "cell_type": "code",
   "execution_count": 30,
   "id": "0dae7d7a",
   "metadata": {},
   "outputs": [
    {
     "data": {
      "image/png": "[encoded data removed]",
      "text/plain": [
       "<Figure size 360x216 with 1 Axes>"
      ]
     },
     "execution_count": 30,
     "metadata": {},
     "output_type": "execute_result"
    }
   ],
   "source": [
    "# of hoeveel mensen met skill C heb ik per vier weken nodig wanneer iedereen 12 dagen van 8 uren werkt?\n",
    "# en hier komt de onzin om de hoek kijken: het algoritme houdt geen enkele rekening met\n",
    "# de arbeidstijdenwet maar kijkt enkel wat het beste past\n",
    "series = frame['skill C']._.resample(\"4w\").subseries(12, 8)\n",
    "series._.area(figsize=(5,3), ylim=(0,None))\n",
    "\n",
    "# wel valt meteen op dat een planning hiermee natuurlijk fantistisch wordt uitgevlakt"
   ]
  },
  {
   "cell_type": "markdown",
   "id": "698d6bc7",
   "metadata": {},
   "source": [
    "diff_quantity, diff_distribution en diff_skills gebruik je eigenlijk niet. Deze functies worden gebruikt om de complexiteit van een planning te berekenen."
   ]
  },
  {
   "cell_type": "code",
   "execution_count": 37,
   "id": "e4001e95",
   "metadata": {},
   "outputs": [
    {
     "data": {
      "text/plain": [
       "2022-01-03         NaN\n",
       "2022-01-31    0.061603\n",
       "2022-02-28    0.007306\n",
       "2022-03-28    0.019874\n",
       "2022-04-25    0.008694\n",
       "2022-05-23    0.023903\n",
       "2022-06-20    0.002503\n",
       "2022-07-18    0.023595\n",
       "2022-08-15    0.006520\n",
       "2022-09-12    0.021227\n",
       "2022-10-10    0.000679\n",
       "2022-11-07    0.022155\n",
       "2022-12-05    0.025665\n",
       "Freq: 28D, dtype: float64"
      ]
     },
     "execution_count": 37,
     "metadata": {},
     "output_type": "execute_result"
    }
   ],
   "source": [
    "# maar goed, het werkt wel; het fractionele verschil in volume tussen twee opeenvolgende periodes van 4 weken\n",
    "frame._.resample(\"4w\").diff_quantity()"
   ]
  },
  {
   "cell_type": "markdown",
   "id": "08bbcb49",
   "metadata": {},
   "source": [
    "niet groeperen maar uitvlakken"
   ]
  },
  {
   "cell_type": "code",
   "execution_count": 45,
   "id": "9cabd42a",
   "metadata": {},
   "outputs": [
    {
     "data": {
      "text/html": [
       "<div>\n",
       "<style scoped>\n",
       "    .dataframe tbody tr th:only-of-type {\n",
       "        vertical-align: middle;\n",
       "    }\n",
       "\n",
       "    .dataframe tbody tr th {\n",
       "        vertical-align: top;\n",
       "    }\n",
       "\n",
       "    .dataframe thead th {\n",
       "        text-align: right;\n",
       "    }\n",
       "</style>\n",
       "<table border=\"1\" class=\"dataframe\">\n",
       "  <thead>\n",
       "    <tr style=\"text-align: right;\">\n",
       "      <th></th>\n",
       "      <th>skill A</th>\n",
       "      <th>skill B</th>\n",
       "      <th>skill C</th>\n",
       "      <th>skill D</th>\n",
       "    </tr>\n",
       "  </thead>\n",
       "  <tbody>\n",
       "    <tr>\n",
       "      <th>2022-01-03</th>\n",
       "      <td>387.448297</td>\n",
       "      <td>391.647394</td>\n",
       "      <td>394.606012</td>\n",
       "      <td>404.175429</td>\n",
       "    </tr>\n",
       "    <tr>\n",
       "      <th>2022-01-04</th>\n",
       "      <td>387.448297</td>\n",
       "      <td>391.647394</td>\n",
       "      <td>394.606012</td>\n",
       "      <td>404.175429</td>\n",
       "    </tr>\n",
       "    <tr>\n",
       "      <th>2022-01-05</th>\n",
       "      <td>387.448297</td>\n",
       "      <td>391.647394</td>\n",
       "      <td>394.606012</td>\n",
       "      <td>404.175429</td>\n",
       "    </tr>\n",
       "    <tr>\n",
       "      <th>2022-01-06</th>\n",
       "      <td>387.448297</td>\n",
       "      <td>391.647394</td>\n",
       "      <td>394.606012</td>\n",
       "      <td>404.175429</td>\n",
       "    </tr>\n",
       "    <tr>\n",
       "      <th>2022-01-07</th>\n",
       "      <td>387.448297</td>\n",
       "      <td>391.647394</td>\n",
       "      <td>394.606012</td>\n",
       "      <td>404.175429</td>\n",
       "    </tr>\n",
       "    <tr>\n",
       "      <th>...</th>\n",
       "      <td>...</td>\n",
       "      <td>...</td>\n",
       "      <td>...</td>\n",
       "      <td>...</td>\n",
       "    </tr>\n",
       "    <tr>\n",
       "      <th>2022-12-28</th>\n",
       "      <td>411.886041</td>\n",
       "      <td>420.112364</td>\n",
       "      <td>412.731012</td>\n",
       "      <td>409.388703</td>\n",
       "    </tr>\n",
       "    <tr>\n",
       "      <th>2022-12-29</th>\n",
       "      <td>411.886041</td>\n",
       "      <td>420.112364</td>\n",
       "      <td>412.731012</td>\n",
       "      <td>409.388703</td>\n",
       "    </tr>\n",
       "    <tr>\n",
       "      <th>2022-12-30</th>\n",
       "      <td>411.886041</td>\n",
       "      <td>420.112364</td>\n",
       "      <td>412.731012</td>\n",
       "      <td>409.388703</td>\n",
       "    </tr>\n",
       "    <tr>\n",
       "      <th>2022-12-31</th>\n",
       "      <td>411.886041</td>\n",
       "      <td>420.112364</td>\n",
       "      <td>412.731012</td>\n",
       "      <td>409.388703</td>\n",
       "    </tr>\n",
       "    <tr>\n",
       "      <th>2023-01-01</th>\n",
       "      <td>411.886041</td>\n",
       "      <td>420.112364</td>\n",
       "      <td>412.731012</td>\n",
       "      <td>409.388703</td>\n",
       "    </tr>\n",
       "  </tbody>\n",
       "</table>\n",
       "<p>364 rows × 4 columns</p>\n",
       "</div>"
      ],
      "text/plain": [
       "               skill A     skill B     skill C     skill D\n",
       "2022-01-03  387.448297  391.647394  394.606012  404.175429\n",
       "2022-01-04  387.448297  391.647394  394.606012  404.175429\n",
       "2022-01-05  387.448297  391.647394  394.606012  404.175429\n",
       "2022-01-06  387.448297  391.647394  394.606012  404.175429\n",
       "2022-01-07  387.448297  391.647394  394.606012  404.175429\n",
       "...                ...         ...         ...         ...\n",
       "2022-12-28  411.886041  420.112364  412.731012  409.388703\n",
       "2022-12-29  411.886041  420.112364  412.731012  409.388703\n",
       "2022-12-30  411.886041  420.112364  412.731012  409.388703\n",
       "2022-12-31  411.886041  420.112364  412.731012  409.388703\n",
       "2023-01-01  411.886041  420.112364  412.731012  409.388703\n",
       "\n",
       "[364 rows x 4 columns]"
      ]
     },
     "execution_count": 45,
     "metadata": {},
     "output_type": "execute_result"
    }
   ],
   "source": [
    "df = frame._.flatten(\"13w\").mean()\n",
    "df"
   ]
  },
  {
   "cell_type": "code",
   "execution_count": 50,
   "id": "d382ac27",
   "metadata": {},
   "outputs": [
    {
     "data": {
      "image/png": "[encoded data removed]",
      "text/plain": [
       "<Figure size 360x432 with 1 Axes>"
      ]
     },
     "execution_count": 50,
     "metadata": {},
     "output_type": "execute_result"
    }
   ],
   "source": [
    "df['skill A']._.area(figsize=(5,6), ylim=(0,None))"
   ]
  },
  {
   "cell_type": "code",
   "execution_count": null,
   "id": "30151184",
   "metadata": {},
   "outputs": [],
   "source": []
  }
 ],
 "metadata": {
  "kernelspec": {
   "display_name": "Python 3.8.11 ('base')",
   "language": "python",
   "name": "python3811jvsc74a57bd022788e8dc69c2913137a0a32ca47706b2886dfdb668fa9ecd31a4af3057af199"
  },
  "language_info": {
   "codemirror_mode": {
    "name": "ipython",
    "version": 3
   },
   "file_extension": ".py",
   "mimetype": "text/x-python",
   "name": "python",
   "nbconvert_exporter": "python",
   "pygments_lexer": "ipython3",
   "version": "3.8.11"
  }
 },
 "nbformat": 4,
 "nbformat_minor": 5
}
